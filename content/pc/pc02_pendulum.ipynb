{
 "cells": [
  {
   "cell_type": "code",
   "execution_count": null,
   "id": "07bdd0c3",
   "metadata": {},
   "outputs": [],
   "source": [
    "import numpy as np\n",
    "from scipy.integrate import solve_ivp\n",
    "import plotly.graph_objects as go"
   ]
  },
  {
   "cell_type": "markdown",
   "id": "a9296329",
   "metadata": {},
   "source": [
    "# Pendulum"
   ]
  },
  {
   "cell_type": "markdown",
   "id": "fbba5d13",
   "metadata": {},
   "source": [
    "## Frictionless pendulum\n",
    "\n",
    "Let $x \\in \\mathbb R$ a variable denoting the angle of the pendulum compared to the downward position.\n",
    "The usual equation for the non-dimensional pendulum is given by:\n",
    "\n",
    "$$\n",
    "\\ddot x = - \\sin(x).\n",
    "$$\n",
    "\n",
    "Let's set $q = x$ and $p = \\dot x$, the previous equation can be recast into a system of first order ordinary differential equations :\n",
    "\n",
    "$$\n",
    "\\left\\{ \n",
    "\\begin{aligned} \n",
    "\\dot q & = p\\\\ \n",
    "\\dot p & = -\\sin(q)\n",
    "\\end{aligned} \n",
    "\\right. \n",
    "$$"
   ]
  },
  {
   "cell_type": "code",
   "execution_count": null,
   "id": "1a4e249a",
   "metadata": {
    "tags": [
     "hide-input"
    ]
   },
   "outputs": [],
   "source": [
    "class frictionless_pendulum_model:\n",
    "\n",
    "    def __init__(self):\n",
    "        pass\n",
    "\n",
    "    def fcn(self, t, y):\n",
    "        q, p = y\n",
    "        q_dot = p\n",
    "        p_dot = -np.sin(q)\n",
    "        return (q_dot, p_dot)"
   ]
  },
  {
   "cell_type": "code",
   "execution_count": null,
   "id": "de87af80",
   "metadata": {},
   "outputs": [],
   "source": [
    "flpm = frictionless_pendulum_model()\n",
    "fcn = flpm.fcn\n",
    "\n",
    "tini = 0.0\n",
    "tend = 20.0\n",
    "\n",
    "q_ini = 0.\n",
    "p_ini = np.arange(-3,3.1,0.2)\n",
    "i_beg = int(np.argwhere(np.abs(p_ini + 1) < 1e-10))\n",
    "\n",
    "sol = solve_ivp(fcn, (tini, tend), (q_ini, p_ini[i_beg]), t_eval=np.linspace(tini, tend, 200))\n",
    "\n",
    "fig = go.Figure()\n",
    "fig.add_trace(go.Scatter(x=sol.y[0], y=sol.y[1]))\n",
    "\n",
    "#create slider\n",
    "steps = []\n",
    "for p_ini_i in p_ini:\n",
    "    sol = solve_ivp(fcn, (tini, tend), (q_ini, p_ini_i), t_eval=np.linspace(tini, tend, 200))\n",
    "    step = dict(method=\"update\", label = f\"{p_ini_i:.2f}\", args=[{\"x\": [sol.y[0]], \"y\": [sol.y[1]]}])\n",
    "    steps.append(step)\n",
    "sliders = [dict(active=i_beg, currentvalue={'prefix': 'p ini = '}, steps=steps)]\n",
    "\n",
    "fig.update_layout(sliders=sliders, title = 'Phase portait of the pendulum without friction')\n",
    "fig.update_xaxes(title='q', range=[-8, 8])\n",
    "fig.update_yaxes(title='p', range=[-4, 4])\n",
    "fig['layout']['sliders'][0]['pad']=dict(t=50)\n",
    "fig.show()"
   ]
  },
  {
   "cell_type": "markdown",
   "id": "b38611ba",
   "metadata": {},
   "source": [
    "## Friction pendulum\n",
    "\n",
    "By adding friction, the previous system can be written :\n",
    "\n",
    "$$\n",
    "\\left\\{ \n",
    "\\begin{aligned} \n",
    "\\dot q & = p\\\\ \n",
    "\\dot p & = -\\sin(q) - \\alpha \\, p\n",
    "\\end{aligned} \n",
    "\\right. \n",
    "$$"
   ]
  },
  {
   "cell_type": "code",
   "execution_count": null,
   "id": "de323d9b",
   "metadata": {
    "tags": [
     "hide-input"
    ]
   },
   "outputs": [],
   "source": [
    "class friction_pendulum_model:\n",
    "\n",
    "    def __init__(self, alpha):\n",
    "        self.alpha = alpha\n",
    "\n",
    "    def fcn(self, t, y):\n",
    "        alpha = self.alpha\n",
    "        q, p = y\n",
    "        q_dot = p\n",
    "        p_dot = -np.sin(q) -alpha*p\n",
    "        return (q_dot, p_dot)"
   ]
  },
  {
   "cell_type": "code",
   "execution_count": null,
   "id": "43ee472e",
   "metadata": {},
   "outputs": [],
   "source": [
    "fpm = friction_pendulum_model(alpha=0.25)\n",
    "fcn = fpm.fcn\n",
    "\n",
    "tini = 0.0\n",
    "tend = 20.0\n",
    "\n",
    "q_ini = 0.\n",
    "p_ini = np.arange(-3,3.1,0.2)\n",
    "i_beg = int(np.argwhere(np.abs(p_ini + 1) < 1e-10))\n",
    "\n",
    "sol = solve_ivp(fcn, (tini, tend), (q_ini, p_ini[i_beg]), t_eval=np.linspace(tini, tend, 200))\n",
    "\n",
    "fig = go.Figure()\n",
    "fig.add_trace(go.Scatter(x=sol.y[0], y=sol.y[1]))\n",
    "\n",
    "#create slider\n",
    "steps = []\n",
    "for p_ini_i in p_ini:\n",
    "    sol = solve_ivp(fcn, (tini, tend), (q_ini, p_ini_i), t_eval=np.linspace(tini, tend, 200))\n",
    "    step = dict(method=\"update\", label = f\"{p_ini_i:.2f}\", args=[{\"x\": [sol.y[0]], \"y\": [sol.y[1]]}])\n",
    "    steps.append(step)\n",
    "sliders = [dict(active=i_beg, currentvalue={'prefix': 'p ini = '}, steps=steps)]\n",
    "\n",
    "fig.update_layout(sliders=sliders, title = 'Phase portait of the pendulum with nonzero friction')\n",
    "fig.update_xaxes(title='q',range=[-8, 8])\n",
    "fig.update_yaxes(title='p',range=[-4, 4])\n",
    "fig['layout']['sliders'][0]['pad']=dict(t=50)\n",
    "fig.show()"
   ]
  }
 ],
 "metadata": {
  "@webio": {
   "lastCommId": null,
   "lastKernelId": null
  },
  "celltoolbar": "Format de la Cellule Texte Brut",
  "kernelspec": {
   "display_name": "Python 3 (ipykernel)",
   "language": "python",
   "name": "python3"
  },
  "language_info": {
   "codemirror_mode": {
    "name": "ipython",
    "version": 3
   },
   "file_extension": ".py",
   "mimetype": "text/x-python",
   "name": "python",
   "nbconvert_exporter": "python",
   "pygments_lexer": "ipython3",
   "version": "3.9.7"
  }
 },
 "nbformat": 4,
 "nbformat_minor": 5
}
