{
 "cells": [
  {
   "cell_type": "code",
   "execution_count": null,
   "id": "4f2a8e86",
   "metadata": {},
   "outputs": [],
   "source": [
    "import numpy as np\n",
    "from scipy.integrate import solve_ivp\n",
    "from scipy.optimize import root\n",
    "import plotly.graph_objects as go"
   ]
  },
  {
   "cell_type": "markdown",
   "id": "fcb885ed",
   "metadata": {},
   "source": [
    "# An unstable periodic orbit in the restricted three-body problem\n",
    "\n",
    "We consider a reduced three body problem consisting of the motion of a satellite in the framework of the attraction of the moon and the earth. For the purpose of the exercise, we assume that the system earth-moon is in circular rotation at constant speed  in a planar motion with the mass center of gravity located at the origin and that the mass of the satellite $\\epsilon$ is small enough compared the mass of the earth $1-\\mu$ and the mass of the moon $\\mu$ to so that we can neglect its impact on the earth-moon system.  We also assume that the motion of the satellite is governed by the attraction of the two bodies earth and moon through the Newton gravitation law.\n",
    "\n",
    "The motion of the satellite in the complex plane satisfies the equation: \n",
    "\n",
    "$$\n",
    "\\epsilon\\, {\\mathrm d}_t^2 Y = \\frac{\\epsilon(1-\\mu)}{\\vert\\vert A-Y\\vert\\vert^2}\\, \\frac{A-Y}{\\vert\\vert A-Y\\vert\\vert}+ \\frac{\\epsilon\\mu}{\\vert\\vert B-Y\\vert\\vert^2}\\, \\frac{B-Y}{\\vert\\vert B-Y\\vert\\vert}.\n",
    "$$\n",
    "\n",
    "In order to eliminate the factor $e^{it}$ in $A=-\\mu\\,e^{it}$ and  $A=(1-\\mu)e^{it}$, we introduce the variable $y=e^{-it}\\,Y = y_1+i\\,y_2$. In this new referential the earth and the moon are motionless. We have $Y=e^{it}y$ and ${\\mathrm d}_t^2 Y = -e^{it}y+2\\,i\\,e^{it}{\\mathrm d}_t y+e^{it}{\\mathrm d}_t^2 y$ and the equation of motion thus read:\n",
    "\n",
    "$$\n",
    "{\\mathrm d}_t^2 y + 2\\,i\\,{\\mathrm d}_t y-y= (1-\\mu)\\,\\frac{-\\mu-y}{\\vert\\vert \\mu+y\\vert\\vert^3}+ \\mu\\, \\frac{1-\\mu-y}{\\vert\\vert 1-\\mu-y\\vert\\vert^3}.\n",
    "$$\n",
    "\n",
    "Introducing the real and imaginary parts of $y$ and then switching to a first order system of differential equations, we obtain:\n",
    "\n",
    "$$\n",
    "\\begin{array}{rcl} \n",
    "{\\mathrm d}_t y_1 & = & y_3, \\\\ \n",
    "{\\mathrm d}_t y_2 & = & y_4, \\\\ \n",
    "{\\mathrm d}_t y_3 & = & y_1+2\\,y_4- (1-\\mu)(y_1+\\mu)/r_1^3 - \\mu (y_1-1+\\mu)/r_2^3, \\\\\n",
    "{\\mathrm d}_t y_4 & = & y_2-2\\,y_3- (1-\\mu)y_2/r_1^3 - \\mu y_2/r_2^3,\n",
    "\\end{array} \n",
    "$$\n",
    "\n",
    "with $r_1=((y_1+\\mu)^2+y_2^2)^{1/2}$ and $((y_1-1+\\mu)^2+y_2^2)^{1/2}$.\n",
    "\n",
    "For the initial values, we have chosen:\n",
    "\n",
    "$$\n",
    "\\begin{aligned}\n",
    "y_1(0) &= -0.5655899165951338\\\\\n",
    "y_2(0) &=  0.601315396569226\\\\\n",
    "y_3(0) &= -0.45171183358756384\\\\\n",
    "y_4(0) &= 0.23073427996775764.\n",
    "\\end{aligned}\n",
    "$$\n",
    "\n",
    "The motion of the satellite should then be almost periodic, with period $T \\approx 17.06521656$."
   ]
  },
  {
   "cell_type": "code",
   "execution_count": null,
   "id": "1a44c03d",
   "metadata": {
    "tags": [
     "hide-input"
    ]
   },
   "outputs": [],
   "source": [
    "class three_body_model:\n",
    "\n",
    "    def __init__(self, mu):\n",
    "        self.mu = mu\n",
    "\n",
    "    def fcn(self, t, y) :\n",
    "        y1,y2,y3,y4 = y\n",
    "        mu = self.mu\n",
    "        r1 = np.sqrt((y1+mu)*(y1+mu) + y2*y2)\n",
    "        r2 = np.sqrt((y1-1+mu)*(y1-1+mu) + y2*y2)\n",
    "        y1_dot = y3\n",
    "        y2_dot = y4\n",
    "        y3_dot = y1 + 2*y4 - (1-mu)*(y1+mu)/(r1*r1*r1) - mu*(y1 - 1 + mu)/(r2*r2*r2)\n",
    "        y4_dot = y2 - 2*y3 - (1-mu)*y2/(r1*r1*r1) - mu*y2/(r2*r2*r2)\n",
    "        return (y1_dot, y2_dot, y3_dot, y4_dot)"
   ]
  },
  {
   "cell_type": "code",
   "execution_count": null,
   "id": "93fa0c0d",
   "metadata": {},
   "outputs": [],
   "source": [
    "# Initialization\n",
    "yini = (-0.5655899165951338, 0.601315396569226, -0.45171183358756384, 0.23073427996775764)\n",
    "#yini = (0.994, 0., 0., -2.00158510637908252240537862224)\n",
    "\n",
    "tini = 0.\n",
    "tend = 18.\n",
    "\n",
    "mu = 0.012277471\n",
    "    \n",
    "tbm = three_body_model(mu)\n",
    "fcn = tbm.fcn"
   ]
  },
  {
   "cell_type": "markdown",
   "id": "7da9a036",
   "metadata": {},
   "source": [
    "## Quasi-exact solution\n",
    "\n",
    "The quasi-exact solution is obtained by using an explicit Runge-Kutta method of order(4)5 due to Dormand and Prince with stepsize control (RK45) with very fine tolerances."
   ]
  },
  {
   "cell_type": "code",
   "execution_count": null,
   "id": "9c50ba9d",
   "metadata": {},
   "outputs": [],
   "source": [
    "tol = 1.e-12\n",
    "sol = solve_ivp(fcn, (tini, tend), yini, rtol=tol, atol=tol)\n",
    "\n",
    "fig_y1y2 = go.Figure()\n",
    "fig_y1y2.add_trace(go.Scatter(x=sol.y[0], y=sol.y[1], name=\"quasi-exact sol.\", showlegend=True))\n",
    "fig_y1y2.update_layout(title=\"Arenstorf orbit\", xaxis_title=\"y1\", yaxis_title=\"y2\")\n",
    "fig_y1y2.show()\n",
    "\n",
    "fig_sol = go.Figure()\n",
    "fig_sol.add_trace(go.Scatter(x=sol.t, y=sol.y[0], name=\"y1\"))\n",
    "fig_sol.add_trace(go.Scatter(x=sol.t, y=sol.y[1], name=\"y2\"))\n",
    "fig_sol.add_trace(go.Scatter(x=sol.t, y=sol.y[2], name=\"y3\"))\n",
    "fig_sol.add_trace(go.Scatter(x=sol.t, y=sol.y[3], name=\"y4\"))\n",
    "fig_sol.update_layout(title=\"Evolution of solutions\", xaxis_title=\"t\")\n",
    "fig_sol.show()"
   ]
  },
  {
   "cell_type": "markdown",
   "id": "57545ee5",
   "metadata": {},
   "source": [
    "## Forward Euler"
   ]
  },
  {
   "cell_type": "code",
   "execution_count": null,
   "id": "5e79a5e5",
   "metadata": {
    "tags": [
     "hide-input"
    ]
   },
   "outputs": [],
   "source": [
    "class ode_result:\n",
    "    def __init__(self, y, t):\n",
    "        self.y = y\n",
    "        self.t = t\n",
    "\n",
    "def forward_euler(tini, tend, nt, yini, fcn):\n",
    "\n",
    "    dt = (tend-tini) / (nt-1)\n",
    "    t = np.linspace(tini, tend, nt)\n",
    "\n",
    "    yini_array = np.array(yini)\n",
    "    neq = yini_array.size\n",
    "\n",
    "    y = np.zeros((neq, nt), order='F')\n",
    "    y[:,0] = yini_array\n",
    "\n",
    "    for it, tn  in enumerate(t[:-1]):\n",
    "        yn = y[:,it]\n",
    "        y[:,it+1] = yn + dt*np.array(fcn(tn, yn))\n",
    "\n",
    "    return ode_result(y, t)"
   ]
  },
  {
   "cell_type": "code",
   "execution_count": null,
   "id": "ba64a466",
   "metadata": {},
   "outputs": [],
   "source": [
    "tini = 0.\n",
    "tend = 18.\n",
    "nt = 180000\n",
    "sol_fe = forward_euler(tini, tend, nt, yini, fcn)\n",
    "\n",
    "fig = go.Figure()\n",
    "fig.add_trace(go.Scatter(x=sol.y[0], y=sol.y[1], name=\"quasi-exact sol.\"))\n",
    "fig.add_trace(go.Scatter(x=sol_fe.y[0], y=sol_fe.y[1], name=\"forward Euler\"))\n",
    "fig.update_layout(title=\"Arenstorf orbit\", xaxis_title=\"y1\", yaxis_title=\"y2\")\n",
    "fig.show()"
   ]
  },
  {
   "cell_type": "markdown",
   "id": "ffc6b82d",
   "metadata": {},
   "source": [
    "## Backward Euler"
   ]
  },
  {
   "cell_type": "code",
   "execution_count": null,
   "id": "94ffea10",
   "metadata": {
    "tags": [
     "hide-input"
    ]
   },
   "outputs": [],
   "source": [
    "def backward_euler(tini, tend, nt, yini, fcn):\n",
    "\n",
    "    dt = (tend-tini) / (nt-1)\n",
    "    t = np.linspace(tini, tend, nt)\n",
    "\n",
    "    yini_array = np.array(yini)\n",
    "    neq = yini_array.size\n",
    "\n",
    "    y = np.zeros((neq, nt), order='F')\n",
    "    y[:,0] = yini_array\n",
    "\n",
    "    def g(uip1, *args):\n",
    "        uip, tip1 = args\n",
    "        return uip1 - uip - dt*np.array(fcn(tip1, uip1))\n",
    "\n",
    "    for it, tn  in enumerate(t[:-1]):\n",
    "        yn = y[:,it]\n",
    "        y0 = yn + dt*np.array(fcn(tn, yn))\n",
    "        # solve y[:,it+1] - y[:,it] - dt * fcn(tini + (it+1)*dt, y[:,it+1]) = 0\n",
    "        sol = root(g, y0, (yn, tn+dt))\n",
    "        y[:,it+1] = sol.x\n",
    "\n",
    "    return ode_result(y, t)"
   ]
  },
  {
   "cell_type": "code",
   "execution_count": null,
   "id": "bf1e948f",
   "metadata": {},
   "outputs": [],
   "source": [
    "tini = 0.\n",
    "tend = 18.\n",
    "nt = 180000\n",
    "sol_be = backward_euler(tini, tend, nt, yini, fcn)\n",
    "\n",
    "fig = go.Figure()\n",
    "fig.add_trace(go.Scatter(x=sol.y[0], y=sol.y[1], name=\"quasi-exact sol.\"))\n",
    "fig.add_trace(go.Scatter(x=sol_be.y[0], y=sol_be.y[1], name=\"backward Euler\"))\n",
    "fig.update_layout(title=\"Arenstorf orbit\", xaxis_title=\"y1\", yaxis_title=\"y2\")\n",
    "fig.show()"
   ]
  }
 ],
 "metadata": {
  "@webio": {
   "lastCommId": null,
   "lastKernelId": null
  },
  "celltoolbar": "Format de la Cellule Texte Brut",
  "kernelspec": {
   "display_name": "Python 3 (ipykernel)",
   "language": "python",
   "name": "python3"
  },
  "language_info": {
   "codemirror_mode": {
    "name": "ipython",
    "version": 3
   },
   "file_extension": ".py",
   "mimetype": "text/x-python",
   "name": "python",
   "nbconvert_exporter": "python",
   "pygments_lexer": "ipython3",
   "version": "3.9.7"
  }
 },
 "nbformat": 4,
 "nbformat_minor": 5
}
