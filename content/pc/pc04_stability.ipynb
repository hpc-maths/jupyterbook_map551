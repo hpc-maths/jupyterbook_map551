{
 "cells": [
  {
   "cell_type": "markdown",
   "metadata": {},
   "source": [
    "# Stability domains"
   ]
  },
  {
   "cell_type": "code",
   "execution_count": null,
   "metadata": {},
   "outputs": [],
   "source": [
    "import numpy as np\n",
    "import plotly.graph_objects as go\n",
    "from plotly.subplots import make_subplots"
   ]
  },
  {
   "cell_type": "markdown",
   "metadata": {},
   "source": [
    "## Runge-Kutta methods"
   ]
  },
  {
   "cell_type": "code",
   "execution_count": null,
   "metadata": {
    "tags": [
     "hide-input"
    ]
   },
   "outputs": [],
   "source": [
    "x = np.linspace(-4, 2, 600)\n",
    "y = np.linspace(-3, 3, 600)\n",
    "\n",
    "z = x + 1j*y[:, np.newaxis]\n",
    "\n",
    "# euler \n",
    "euler = z + 1\n",
    "euler_stab = np.zeros_like(z, dtype = np.double)\n",
    "mask = np.abs(euler)<=1\n",
    "euler_stab[mask] = np.abs(euler[mask])\n",
    "\n",
    "# rk2\n",
    "rk2 = z + z**2/2 + 1\n",
    "rk2_stab = np.zeros_like(z, dtype = np.double)\n",
    "mask = np.abs(rk2)<=1\n",
    "rk2_stab[mask] = np.abs(rk2[mask])\n",
    "\n",
    "# rk3\n",
    "rk3 = z + z**2/2 + z**3/6 + 1\n",
    "rk3_stab = np.zeros_like(z, dtype = np.double)\n",
    "mask = np.abs(rk3)<=1\n",
    "rk3_stab[mask] = np.abs(rk3[mask])\n",
    "\n",
    "# rk4\n",
    "rk4 = z + z**2/2 + z**3/6 + z**4/24 + 1\n",
    "rk4_stab = np.zeros_like(z, dtype = np.double)\n",
    "mask = np.abs(rk4)<=1\n",
    "rk4_stab[mask] = np.abs(rk4[mask])\n",
    "\n",
    "fig = make_subplots(rows=2, cols=2, vertical_spacing=0.1, \n",
    "                    subplot_titles=('Runge Kutta order 1, forward Euler', 'Runge Kutta order 2',\n",
    "                                    'Runge Kutta order 3', 'Runge Kutta order 4'))\n",
    "\n",
    "fig.add_trace(go.Contour(x=x, y=y, z=euler_stab, showscale=False, colorscale='blues'), row=1, col=1)\n",
    "fig.add_shape(type=\"line\", x0=0, y0=-3, x1=0, y1=3, line_color='black', row=1, col=1) \n",
    "fig.add_shape(type=\"line\", x0=-4, y0=0, x1=2, y1=0, line_color='black', row=1, col=1) \n",
    "\n",
    "fig.add_trace(go.Contour(x=x, y=y, z=rk2_stab, showscale=False, colorscale='blues'), row=1, col=2)\n",
    "fig.add_shape(type=\"line\", x0=0, y0=-3, x1=0, y1=3, line_color='black', row=1, col=2) \n",
    "fig.add_shape(type=\"line\", x0=-4, y0=0, x1=2, y1=0, line_color='black', row=1, col=2)\n",
    "\n",
    "fig.add_trace(go.Contour(x=x, y=y, z=rk3_stab, showscale=False, colorscale='blues'), row=2, col=1)\n",
    "fig.add_shape(type=\"line\", x0=0, y0=-3, x1=0, y1=3, line_color='black', row=2, col=1) \n",
    "fig.add_shape(type=\"line\", x0=-4, y0=0, x1=2, y1=0, line_color='black', row=2, col=1) \n",
    "\n",
    "fig.add_trace(go.Contour(x=x, y=y, z=rk4_stab, showscale=False, colorscale='blues'), row=2, col=2)\n",
    "fig.add_shape(type=\"line\", x0=0, y0=-3, x1=0, y1=3, line_color='black', row=2, col=2) \n",
    "fig.add_shape(type=\"line\", x0=-4, y0=0, x1=2, y1=0, line_color='black', row=2, col=2) \n",
    "\n",
    "fig.update_layout(height=1000, title=\"Domain stability\")\n",
    "fig.show()"
   ]
  },
  {
   "cell_type": "markdown",
   "metadata": {},
   "source": [
    "## Dormand and Prince methods"
   ]
  },
  {
   "cell_type": "code",
   "execution_count": null,
   "metadata": {
    "tags": [
     "hide-input"
    ]
   },
   "outputs": [],
   "source": [
    "x = np.linspace(-7, 2, 900)\n",
    "y = np.linspace(-7, 7, 1400)\n",
    "\n",
    "z = x + 1j*y[:, np.newaxis]\n",
    "\n",
    "# dopri5 \n",
    "dopri5 = 1 + z + z**2/2 + z**3/6 + z**4/24 + z**5/120 + z**6/600\n",
    "dopri5_stab = np.zeros_like(z, dtype = np.double)\n",
    "mask = np.abs(dopri5)<=1\n",
    "dopri5_stab[mask] = np.abs(dopri5[mask])\n",
    "\n",
    "# dopri853\n",
    "dopri853 = 1 + z + z**2/2 + z**3/6 + z**4/24 + z**5/120 + z**6/720 + z**7/5040 + z**8/40320 \\\n",
    "         + 2.6916922001691e-6 * z**9  + 2.3413451082098e-7 * z**10 \\\n",
    "         + 1.4947364854592e-8 * z**11 + 3.6133245781282e-10 * z**12  \n",
    "dopri853_stab = np.zeros_like(z, dtype = np.double)\n",
    "mask = np.abs(dopri853)<=1\n",
    "dopri853_stab[mask] = np.abs(dopri853[mask])\n",
    "\n",
    "fig = make_subplots(rows=1, cols=2, subplot_titles=('Dopri5 (order 5 and 6 stages)', 'Dopri853 (order 8 and 12 stages)'))\n",
    "\n",
    "fig.add_trace(go.Contour(x=x, y=y, z=dopri5_stab, showscale=False, colorscale='blues'), row=1, col=1)\n",
    "fig.add_shape(type=\"line\", x0=0, y0=-7, x1=0, y1=7, line_color='black', row=1, col=1) \n",
    "fig.add_shape(type=\"line\", x0=-7, y0=0, x1=2, y1=0, line_color='black', row=1, col=1) \n",
    "\n",
    "fig.add_trace(go.Contour(x=x, y=y, z=dopri853_stab, showscale=False, colorscale='blues'), row=1, col=2)\n",
    "fig.add_shape(type=\"line\", x0=0, y0=-7, x1=0, y1=7, line_color='black', row=1, col=2) \n",
    "fig.add_shape(type=\"line\", x0=-7, y0=0, x1=2, y1=0, line_color='black', row=1, col=2)\n",
    "fig.show()"
   ]
  }
 ],
 "metadata": {
  "@webio": {
   "lastCommId": null,
   "lastKernelId": null
  },
  "celltoolbar": "Format de la Cellule Texte Brut",
  "kernelspec": {
   "display_name": "Python 3 (ipykernel)",
   "language": "python",
   "name": "python3"
  },
  "language_info": {
   "codemirror_mode": {
    "name": "ipython",
    "version": 3
   },
   "file_extension": ".py",
   "mimetype": "text/x-python",
   "name": "python",
   "nbconvert_exporter": "python",
   "pygments_lexer": "ipython3",
   "version": "3.9.7"
  }
 },
 "nbformat": 4,
 "nbformat_minor": 2
}
