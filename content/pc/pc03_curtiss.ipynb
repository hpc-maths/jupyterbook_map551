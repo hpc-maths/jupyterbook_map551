{
 "cells": [
  {
   "cell_type": "code",
   "execution_count": null,
   "metadata": {
    "hidePrompt": true
   },
   "outputs": [],
   "source": [
    "import numpy as np\n",
    "from scipy.optimize import root\n",
    "import plotly.graph_objects as go\n",
    "from plotly.subplots import make_subplots"
   ]
  },
  {
   "cell_type": "markdown",
   "metadata": {},
   "source": [
    "# Stability, order and accuracy for non-stiff and stiff equations"
   ]
  },
  {
   "cell_type": "markdown",
   "metadata": {},
   "source": [
    "## Curtiss and Hirschfelder\n",
    "\n",
    "We consider the following problem :\n",
    "\n",
    "\\begin{equation} \n",
    "\\left\\{ \n",
    "\\begin{aligned} \n",
    "{\\mathrm d}_t u(t) & = k \\, \\big(cos(t) - u(t)) \\big) \\quad \\text{with } k > 1\\\\ \n",
    "u(t_0)  & = u_0 \n",
    "\\end{aligned} \n",
    "\\right. \n",
    "\\end{equation}\n",
    "and in the following, we will assume $t_0=0$."
   ]
  },
  {
   "cell_type": "markdown",
   "metadata": {},
   "source": [
    "### Stiffness\n",
    "\n",
    "The exact solution is given by :\n",
    "\n",
    "\\begin{equation}\n",
    "u(t) = \\frac{k}{k^2+1} \\bigg( k \\cos(t) + \\sin(t) \\bigg) + c_0 \\, e^{-k t} \\quad\n",
    "\\text{avec} \\quad c_0 = \\bigg( u_0 -\\frac{k}{k^2 + 1} \\Big( k \\cos(t_0) + \\sin(t_0) \\Big) \\bigg)  e^{-k t_0}   \n",
    "\\end{equation}\n"
   ]
  },
  {
   "cell_type": "code",
   "execution_count": null,
   "metadata": {},
   "outputs": [],
   "source": [
    "class curtiss_model:\n",
    "\n",
    "    def __init__(self, k):\n",
    "        self.k = k\n",
    "\n",
    "    def fcn(self, t, u) :\n",
    "        k = self.k\n",
    "        u_dot = k * (np.cos(t) - u)\n",
    "        return u_dot\n",
    "\n",
    "    def sol(self, uini, t0, t):\n",
    "        k = self.k\n",
    "\n",
    "        c0 = (uini - (k/(k*k + 1)) * (k*np.cos(t0) + np.sin(t0))) * np.exp(k*t0)\n",
    "        u = (k/(k*k + 1)) * (k*np.cos(t) + np.sin(t)) +  c0 * np.exp(-k*t)\n",
    "        return u"
   ]
  },
  {
   "cell_type": "code",
   "execution_count": null,
   "metadata": {},
   "outputs": [],
   "source": [
    "uini = 2.\n",
    "tini = 0.\n",
    "tend = 10.\n",
    "k = 10.\n",
    "\n",
    "cm = curtiss_model(k)\n",
    "    \n",
    "texa = np.linspace(tini, tend, 1000)\n",
    "uexa = cm.sol(uini, tini, texa)\n",
    "\n",
    "fig = go.Figure()\n",
    "fig.add_trace(go.Scatter(x=texa, y=uexa, name='f(x)'))\n",
    "\n",
    "#create slider\n",
    "steps = []\n",
    "for k_i in range(10, 101, 10):\n",
    "    cm = curtiss_model(k_i)\n",
    "    step = dict(method=\"update\", label = f\"{k_i}\", args=[{\"x\": [texa], \"y\": [cm.sol(uini, tini, texa)]}])\n",
    "    steps.append(step)\n",
    "sliders = [dict(currentvalue={'prefix': 'k = '}, steps=steps)]\n",
    "\n",
    "fig.update_layout(sliders=sliders, title = 'Quasi-exact solution of the Curtiss and Hirschfelder equation')\n",
    "\n",
    "fig.show()"
   ]
  },
  {
   "cell_type": "markdown",
   "metadata": {},
   "source": [
    "## Explicit Euler\n",
    "\n",
    "The explicit Euler method to solve ${\\mathrm d}_t u(t) = f(t,u)$ with $u(0)=u_0$ can be written :\n",
    "\n",
    "$$\n",
    "\\left\\{\n",
    "\\begin{aligned}\n",
    "& U^0 = u_0 \\\\\n",
    "& U^{n+1} = U^n + \\Delta t \\; f(t^n,U^n) \\quad \\text{where} \\quad \\Delta t = t^{n+1} - t^n\n",
    "\\end{aligned}\n",
    "\\right.\n",
    "$$"
   ]
  },
  {
   "cell_type": "code",
   "execution_count": null,
   "metadata": {},
   "outputs": [],
   "source": [
    "class ode_result:\n",
    "    def __init__(self, y, t):\n",
    "        self.y = y\n",
    "        self.t = t\n",
    "\n",
    "def forward_euler(tini, tend, nt, yini, fcn):\n",
    "\n",
    "    dt = (tend-tini) / (nt-1)\n",
    "    t = np.linspace(tini, tend, nt)\n",
    "\n",
    "    yini_array = np.array(yini)\n",
    "    neq = yini_array.size\n",
    "\n",
    "    y = np.zeros((neq, nt), order='F')\n",
    "    y[:,0] = yini_array\n",
    "\n",
    "    for it, tn  in enumerate(t[:-1]):\n",
    "        yn = y[:,it]\n",
    "        y[:,it+1] = yn + dt*np.array(fcn(tn, yn))\n",
    "\n",
    "    return ode_result(y, t)"
   ]
  },
  {
   "cell_type": "markdown",
   "metadata": {},
   "source": [
    "### Solution and error"
   ]
  },
  {
   "cell_type": "code",
   "execution_count": null,
   "metadata": {},
   "outputs": [],
   "source": [
    "uini = 2.\n",
    "tini = 0.\n",
    "tend = 2.\n",
    "k = 50.\n",
    "\n",
    "cm = curtiss_model(k)\n",
    "fcn = cm.fcn\n",
    "\n",
    "texa = np.linspace(tini, tend, 500)\n",
    "uexa = cm.sol(uini, tini, texa)\n",
    "\n",
    "fig = make_subplots(rows=2, cols=1)\n",
    "fig.add_trace(go.Scatter(x=texa, y=uexa, name='Exact solution'), row=1, col=1)\n",
    "\n",
    "nt = np.arange(30, 201, 10)\n",
    "for nt_i in nt:\n",
    "    sol = forward_euler(tini, tend, nt_i, uini, fcn)\n",
    "    uexa = cm.sol(uini, tini, sol.t)\n",
    "    fig.add_trace(go.Scatter(visible=False, x=sol.t, y=sol.y[0], mode='markers+lines', line_dash='dot', \n",
    "                             name='Forward Euler'), row=1, col=1)\n",
    "    fig.add_trace(go.Scatter(visible=False, x=sol.t[1:], y=np.abs(sol.y[0]-uexa)[1:], mode='markers', name='Global Error'), row=2, col=1)\n",
    "    \n",
    "i_beg = int(np.argwhere(nt==100))\n",
    "fig.data[2*i_beg+1].visible = True\n",
    "fig.data[2*i_beg+2].visible = True\n",
    "\n",
    "# Create and add slider\n",
    "steps = []\n",
    "for i, nt_i in enumerate(nt):\n",
    "    step = dict(method=\"update\", label = f\"{nt_i}\",\n",
    "                args=[{\"visible\": [el==0 or el==2*i+1 or el==2*i+2 for el in range(len(fig.data))]}])\n",
    "    steps.append(step)\n",
    "sliders = [dict(active=i_beg, currentvalue={\"prefix\": \"nt : \"}, steps=steps)]\n",
    "\n",
    "fig.update_yaxes(row=1, col=1)\n",
    "fig.update_layout(sliders=sliders, title = 'Forward euler', height=800)\n",
    "fig.show()"
   ]
  },
  {
   "cell_type": "markdown",
   "metadata": {},
   "source": [
    "### Order"
   ]
  },
  {
   "cell_type": "code",
   "execution_count": null,
   "metadata": {},
   "outputs": [],
   "source": [
    "uini = 2.\n",
    "tini = 0.\n",
    "tend = 2.\n",
    "cm = curtiss_model(k=100)\n",
    "fcn = cm.fcn\n",
    "\n",
    "nt = np.array([151, 1501, 15001, 150001])\n",
    "\n",
    "err_1   = np.zeros_like(nt, dtype=float)\n",
    "err_2   = np.zeros_like(nt, dtype=float)\n",
    "err_inf = np.zeros_like(nt, dtype=float)\n",
    "\n",
    "for i, nt_i in enumerate(nt):\n",
    "    sol = forward_euler(tini, tend, nt_i, uini, fcn)\n",
    "    uerr = np.abs(cm.sol(uini, tini, sol.t) - sol.y[0])\n",
    "    err_1[i]   = np.linalg.norm(uerr,1) / nt_i\n",
    "    err_2[i]   = np.linalg.norm(uerr) / np.sqrt(nt_i)   \n",
    "    err_inf[i] = np.linalg.norm(uerr,np.inf) \n",
    "\n",
    "dt = (tend-tini)/(nt-1)\n",
    "\n",
    "fig = go.Figure()\n",
    "fig.add_trace(go.Scatter(x=dt, y=err_1, name='Norm l1'))\n",
    "fig.add_trace(go.Scatter(x=dt, y=err_2, name='Norm l2'))\n",
    "fig.add_trace(go.Scatter(x=dt, y=err_inf, name='Norm linf'))\n",
    "fig.add_trace(go.Scatter(x=dt, y=dt, mode='lines', line_dash='dot', name='slope 1'))\n",
    "fig.update_xaxes(type='log', exponentformat='e', title='dt')\n",
    "fig.update_yaxes(type='log', exponentformat='e', title='error norm')\n",
    "fig.show()"
   ]
  },
  {
   "cell_type": "markdown",
   "metadata": {},
   "source": [
    "## Backward Euler\n",
    "\n",
    "The backward Euler method to solve ${\\mathrm d}_t u(t) = f(t,u)$ with $u(0) = u_0$ can be written :\n",
    "\n",
    "\\begin{equation*}\n",
    "\\left\\{\n",
    "\\begin{aligned}\n",
    "& U^0 = u_0 \\\\\n",
    "& U^{n+1} = U^n + \\Delta t \\; f(t^{n+1},U^{n+1}), \\qquad \\Delta t = t^{n+1} - t^n,\n",
    "\\end{aligned}\n",
    "\\right.\n",
    "\\end{equation*}"
   ]
  },
  {
   "cell_type": "code",
   "execution_count": null,
   "metadata": {},
   "outputs": [],
   "source": [
    "def backward_euler(tini, tend, nt, yini, fcn):\n",
    "\n",
    "    dt = (tend-tini) / (nt-1)\n",
    "    t = np.linspace(tini, tend, nt)\n",
    "\n",
    "    yini_array = np.array(yini)\n",
    "    neq = yini_array.size\n",
    "\n",
    "    y = np.zeros((neq, nt), order='F')\n",
    "    y[:,0] = yini_array\n",
    "\n",
    "    def g(uip1, *args):\n",
    "        uip, tip1 = args\n",
    "        return uip1 - uip - dt*np.array(fcn(tip1, uip1))\n",
    "\n",
    "    for it, tn  in enumerate(t[:-1]):\n",
    "        yn = y[:,it]\n",
    "        y0 = yn + dt*np.array(fcn(tn, yn))\n",
    "        # solve y[:,it+1] - y[:,it] - dt * fcn(tini + (it+1)*dt, y[:,it+1]) = 0\n",
    "        sol = root(g, y0, (yn, tn+dt))\n",
    "        y[:,it+1] = sol.x\n",
    "\n",
    "    return ode_result(y, t)"
   ]
  },
  {
   "cell_type": "markdown",
   "metadata": {},
   "source": [
    "### Solution and error"
   ]
  },
  {
   "cell_type": "code",
   "execution_count": null,
   "metadata": {},
   "outputs": [],
   "source": [
    "uini = 2.\n",
    "tini = 0.\n",
    "tend = 2.\n",
    "k = 50.\n",
    "\n",
    "cm = curtiss_model(k)\n",
    "fcn = cm.fcn\n",
    "\n",
    "texa = np.linspace(tini, tend, 500)\n",
    "uexa = cm.sol(uini, tini, texa)\n",
    "\n",
    "fig = make_subplots(rows=2, cols=1)\n",
    "fig.add_trace(go.Scatter(x=texa, y=uexa, name='Exact solution'), row=1, col=1)\n",
    "\n",
    "nt = np.arange(30, 201, 10)\n",
    "for nt_i in nt:\n",
    "    sol = backward_euler(tini, tend, nt_i, uini, fcn)\n",
    "    uexa = cm.sol(uini, tini, sol.t)\n",
    "    fig.add_trace(go.Scatter(visible=False, x=sol.t, y=sol.y[0], mode='markers+lines', line_dash='dot', \n",
    "                             name='Forward Euler'), row=1, col=1)\n",
    "    fig.add_trace(go.Scatter(visible=False, x=sol.t[1:], y=np.abs(sol.y[0]-uexa)[1:], mode='markers', name='Global Error'), row=2, col=1)\n",
    "    \n",
    "i_beg = int(np.argwhere(nt==100))\n",
    "fig.data[2*i_beg+1].visible = True\n",
    "fig.data[2*i_beg+2].visible = True\n",
    "\n",
    "# Create and add slider\n",
    "steps = []\n",
    "for i, nt_i in enumerate(nt):\n",
    "    step = dict(method=\"update\", label = f\"{nt_i}\",\n",
    "                args=[{\"visible\": [el==0 or el==2*i+1 or el==2*i+2 for el in range(len(fig.data))]}])\n",
    "    steps.append(step)\n",
    "sliders = [dict(active=i_beg, currentvalue={\"prefix\": \"nt : \"}, steps=steps)]\n",
    "\n",
    "fig.update_yaxes(row=1, col=1)\n",
    "fig.update_layout(sliders=sliders, title = 'Forward euler', height=800)\n",
    "fig.show()"
   ]
  },
  {
   "cell_type": "markdown",
   "metadata": {},
   "source": [
    "### Order"
   ]
  },
  {
   "cell_type": "code",
   "execution_count": null,
   "metadata": {},
   "outputs": [],
   "source": [
    "uini = 2.\n",
    "tini = 0.\n",
    "tend = 2.\n",
    "cm = curtiss_model(k=100)\n",
    "fcn = cm.fcn\n",
    "\n",
    "nt = np.array([151, 1501, 15001, 150001])\n",
    "\n",
    "err_1   = np.zeros_like(nt, dtype=float)\n",
    "err_2   = np.zeros_like(nt, dtype=float)\n",
    "err_inf = np.zeros_like(nt, dtype=float)\n",
    "\n",
    "for i, nt_i in enumerate(nt):\n",
    "    sol = backward_euler(tini, tend, nt_i, uini, fcn)\n",
    "    uerr = np.abs(cm.sol(uini, tini, sol.t) - sol.y[0])\n",
    "    err_1[i]   = np.linalg.norm(uerr,1) / nt_i\n",
    "    err_2[i]   = np.linalg.norm(uerr) / np.sqrt(nt_i)   \n",
    "    err_inf[i] = np.linalg.norm(uerr,np.inf) \n",
    "\n",
    "dt = (tend-tini)/(nt-1)\n",
    "\n",
    "fig = go.Figure()\n",
    "fig.add_trace(go.Scatter(x=dt, y=err_1, name='Norm l1'))\n",
    "fig.add_trace(go.Scatter(x=dt, y=err_2, name='Norm l2'))\n",
    "fig.add_trace(go.Scatter(x=dt, y=err_inf, name='Norm linf'))\n",
    "fig.add_trace(go.Scatter(x=dt, y=dt, mode='lines', line_dash='dot', name='slope 1'))\n",
    "fig.update_xaxes(type='log', exponentformat='e', title='dt')\n",
    "fig.update_yaxes(type='log', exponentformat='e', title='error norm')\n",
    "fig.show()"
   ]
  },
  {
   "cell_type": "code",
   "execution_count": null,
   "metadata": {},
   "outputs": [],
   "source": []
  }
 ],
 "metadata": {
  "@webio": {
   "lastCommId": null,
   "lastKernelId": null
  },
  "kernelspec": {
   "display_name": "Python 3 (ipykernel)",
   "language": "python",
   "name": "python3"
  },
  "language_info": {
   "codemirror_mode": {
    "name": "ipython",
    "version": 3
   },
   "file_extension": ".py",
   "mimetype": "text/x-python",
   "name": "python",
   "nbconvert_exporter": "python",
   "pygments_lexer": "ipython3",
   "version": "3.9.7"
  }
 },
 "nbformat": 4,
 "nbformat_minor": 2
}
