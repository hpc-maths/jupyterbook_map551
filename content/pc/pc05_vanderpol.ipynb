{
 "cells": [
  {
   "cell_type": "code",
   "execution_count": null,
   "id": "56a300d2",
   "metadata": {},
   "outputs": [],
   "source": [
    "using DifferentialEquations\n",
    "using ODEInterfaceDiffEq\n",
    "using Plots\n",
    "using Plots.PlotMeasures"
   ]
  },
  {
   "cell_type": "markdown",
   "id": "23fae50f",
   "metadata": {},
   "source": [
    "# Van der Pol model\n",
    "\n",
    "We consider the following problem :\n",
    "\n",
    "$$\n",
    "\\left\\{ \n",
    "\\begin{aligned} \n",
    "{\\mathrm d}_t y_1 & = \\epsilon^2 \\left(y_2-\\frac{y_1^3}{3}+y_1 \\right) \\quad{} \\text{with } \\epsilon > 0\\\\ \n",
    "{\\mathrm d}_t y_2 & = - y_1 \n",
    "\\end{aligned} \n",
    "\\right. \n",
    "$$"
   ]
  },
  {
   "cell_type": "code",
   "execution_count": null,
   "id": "31bd0a2e",
   "metadata": {},
   "outputs": [],
   "source": [
    "function vanderpol!(dy, y, p, t)\n",
    "  eps = p\n",
    "  dy[1] = eps^2 * (y[2] - (y[1]^3)/3 + y[1])\n",
    "  dy[2] = -y[1]\n",
    "end;"
   ]
  },
  {
   "cell_type": "markdown",
   "id": "301dd310",
   "metadata": {},
   "source": [
    "## Quasi exact solution\n",
    "\n",
    "The quasi-exact solution is obtained by using an implicit Runge-Kutta method of Radau IIA family of order 5 with stepsize control and fine tolerances."
   ]
  },
  {
   "cell_type": "code",
   "execution_count": null,
   "id": "7e43db24",
   "metadata": {},
   "outputs": [],
   "source": [
    "yini = [0.5; 0.0]\n",
    "tspan = (0.0, 10.0)\n",
    "\n",
    "eps = 20\n",
    "\n",
    "function slow_manifold(y1)\n",
    "    y2 = y1.^3 / 3 - y1\n",
    "end\n",
    "\n",
    "prob = ODEProblem(vanderpol!, yini, tspan, eps)\n",
    "sol = solve(prob, RadauIIA5(), abstol=1e-12,  reltol=1e-12)\n",
    "\n",
    "y1 = collect(range(-2.1, 2.1, length=1000))\n",
    "slow = slow_manifold(y1)\n",
    "\n",
    "ps = plot(sol, vars=1, size=(900,700), xaxis = (\"t\"), leg=false, margin=15mm, \n",
    "     linewidth=2, title=\"Quasi exact solution y1(t)\", titlefontsize=12)\n",
    "pp = plot(sol, vars=(1,2), size=(900,700), xaxis = (\"y1\"), yaxis = (\"y2\"), leg=false, \n",
    "     linewidth=2, title=\"Quasi exact solution in phase space\", titlefontsize=12)\n",
    "plot!(y1, slow)\n",
    "plot(ps, pp, layout=(2,1))"
   ]
  },
  {
   "cell_type": "markdown",
   "id": "e45dbdf9",
   "metadata": {},
   "source": [
    "## Radau5 integration"
   ]
  },
  {
   "cell_type": "code",
   "execution_count": null,
   "id": "458add4e",
   "metadata": {},
   "outputs": [],
   "source": [
    "yini = [0.5; 0.0]\n",
    "tspan = (0.0, 10.0)\n",
    "eps = 10.0\n",
    "tol = 1e-4\n",
    "\n",
    "prob = ODEProblem(vanderpol!, yini, tspan, eps)\n",
    "sol = solve(prob, RadauIIA5(), abstol=tol,  reltol=tol)\n",
    "sol_exa = solve(prob, RadauIIA5(), saveat=sol.t, abstol=1e-12, reltol=1e-12)\n",
    "\n",
    "err_y1 = abs.(sol[1,:] - sol_exa[1,:])\n",
    "\n",
    "println(\"Radau5 integration with tol = \", tol)\n",
    "println(\"Number of function evaluations : \", sol.destats.nf)\n",
    "println(\"Number of linear solves :        \", sol.destats.nsolve)\n",
    "println(\"Number of accepted steps :       \", sol.destats.naccept)\n",
    "println(\"Number of rejected steps :       \", sol.destats.nreject)\n",
    "\n",
    "ps = plot(sol, vars=1, seriestype=:scatter, xaxis = (\"t\"), leg=false, size=(900,600), margin=15mm, \n",
    "          title=\"Radau5 solution : y1\", titlefontsize=12, markershape=:xcross, markersize=2)\n",
    "pe = plot(sol.t, err_y1, seriestype=:scatter, xaxis = (\"t\"), leg=false, size=(900,600), margin=5mm, \n",
    "          title=\"Global error : |y1 - y1exa|\", titlefontsize=12, markershape=:xcross, markersize=2)\n",
    "plot(ps, pe, layout=(2,1))"
   ]
  },
  {
   "cell_type": "markdown",
   "id": "7b8ecb10",
   "metadata": {},
   "source": [
    "## Dopri 5 integration"
   ]
  },
  {
   "cell_type": "code",
   "execution_count": null,
   "id": "c36bc311",
   "metadata": {},
   "outputs": [],
   "source": [
    "yini = [0.5; 0.0]\n",
    "tspan = (0.0, 10.0)\n",
    "eps = 10.0\n",
    "tol = 1e-4\n",
    "\n",
    "prob = ODEProblem(vanderpol!, yini, tspan, eps)\n",
    "sol = solve(prob, DP5(), abstol=tol,  reltol=tol)\n",
    "sol_exa = solve(prob, RadauIIA5(), saveat=sol.t, abstol=1e-12, reltol=1e-12)\n",
    "\n",
    "err_y1 = abs.(sol[1,:] - sol_exa[1,:])\n",
    "\n",
    "println(\"Dopri5 integration with tol = \", tol)\n",
    "\n",
    "println(\"Number of function evaluations : \", sol.destats.nf)\n",
    "println(\"Number of accepted steps :       \", sol.destats.naccept)\n",
    "println(\"Number of rejected steps :       \", sol.destats.nreject)\n",
    "\n",
    "ps = plot(sol, vars=1, seriestype=:scatter, xaxis = (\"t\"), leg=false, size=(900,600), margin=15mm, \n",
    "          title=\"Dopri5 solution : y1\", titlefontsize=12, markershape=:xcross, markersize=2)\n",
    "pe = plot(sol.t, err_y1, seriestype=:scatter, xaxis = (\"t\"), leg=false, size=(900,600), margin=5mm, \n",
    "          title=\"Global error : |y1 - y1exa|\", titlefontsize=12, markershape=:xcross, markersize=2)\n",
    "plot(ps, pe, layout=(2,1))"
   ]
  },
  {
   "cell_type": "markdown",
   "id": "7671f4d1",
   "metadata": {},
   "source": [
    "## Rock4 integration"
   ]
  },
  {
   "cell_type": "code",
   "execution_count": null,
   "id": "a491418b",
   "metadata": {},
   "outputs": [],
   "source": [
    "yini = [0.5; 0.0]\n",
    "tspan = (0.0, 10.0)\n",
    "eps = 10.0\n",
    "tol = 1e-4\n",
    "\n",
    "prob = ODEProblem(vanderpol!, yini, tspan, eps)\n",
    "sol = solve(prob, ROCK4(), abstol=tol,  reltol=tol)\n",
    "sol_exa = solve(prob, RadauIIA5(), saveat=sol.t, abstol=1e-12, reltol=1e-12)\n",
    "\n",
    "err_y1 = abs.(sol[1,:] - sol_exa[1,:])\n",
    "\n",
    "println(\"ROCK4 integration with tol = \", tol)\n",
    "println(\"Number of function evaluations : \", sol.destats.nf)\n",
    "println(\"Number of accepted steps :       \", sol.destats.naccept)\n",
    "println(\"Number of rejected steps :       \", sol.destats.nreject)\n",
    "\n",
    "ps = plot(sol, vars=1, seriestype=:scatter, xaxis = (\"t\"), leg=false, size=(900,600), margin=15mm, \n",
    "          title=\"Rock4 solution : y1\", titlefontsize=12, markershape=:xcross, markersize=2)\n",
    "pe = plot(sol.t, err_y1, seriestype=:scatter, xaxis = (\"t\"), leg=false, size=(900,600), margin=5mm, \n",
    "          title=\"Global error : |y1 - y1exa|\", titlefontsize=12, markershape=:xcross, markersize=2)\n",
    "plot(ps, pe, layout=(2,1))"
   ]
  }
 ],
 "metadata": {
  "@webio": {
   "lastCommId": null,
   "lastKernelId": null
  },
  "kernelspec": {
   "display_name": "Julia 1.6.3",
   "language": "julia",
   "name": "julia-1.6"
  },
  "language_info": {
   "file_extension": ".jl",
   "mimetype": "application/julia",
   "name": "julia",
   "version": "1.6.3"
  },
  "latex_envs": {
   "LaTeX_envs_menu_present": true,
   "autoclose": false,
   "autocomplete": false,
   "bibliofile": "biblio.bib",
   "cite_by": "apalike",
   "current_citInitial": 1,
   "eqLabelWithNumbers": true,
   "eqNumInitial": 1,
   "hotkeys": {
    "equation": "Ctrl-E",
    "itemize": "Ctrl-I"
   },
   "labels_anchors": false,
   "latex_user_defs": false,
   "report_style_numbering": false,
   "user_envs_cfg": false
  }
 },
 "nbformat": 4,
 "nbformat_minor": 5
}
