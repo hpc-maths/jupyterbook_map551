{
 "cells": [
  {
   "cell_type": "code",
   "execution_count": null,
   "id": "fd3eb5c5",
   "metadata": {},
   "outputs": [],
   "source": [
    "using DifferentialEquations\n",
    "using Plots\n",
    "using Interact\n",
    "using ODEInterfaceDiffEq\n",
    "using SimpleDiffEq\n",
    "using BenchmarkTools"
   ]
  },
  {
   "cell_type": "markdown",
   "id": "bee0f6ce",
   "metadata": {},
   "source": [
    "# Van der Pol model\n",
    "\n",
    "We consider the following problem :\n",
    "\n",
    "$$\n",
    "\\left\\{ \n",
    "\\begin{aligned} \n",
    "{\\mathrm d}_t y_1 & = \\varepsilon^2 \\left(y_2-\\frac{y_1^3}{3}+y_1 \\right) \\quad{} \\text{with } \\varepsilon > 0\\\\ \n",
    "{\\mathrm d}_t y_2 & = - y_1 \n",
    "\\end{aligned} \n",
    "\\right. \n",
    "$$"
   ]
  },
  {
   "cell_type": "code",
   "execution_count": null,
   "id": "e86b7b5c",
   "metadata": {},
   "outputs": [],
   "source": [
    "function vanderpol!(du, u, p, t)\n",
    "  eps = p\n",
    "  du[1] = eps^2 * (u[2] - (u[1]^3)/3 + u[1])\n",
    "  du[2] = -u[1]\n",
    "end;"
   ]
  },
  {
   "cell_type": "markdown",
   "id": "5f3263aa",
   "metadata": {},
   "source": [
    "## Quasi exact solution\n",
    "\n",
    "The quasi-exact solution is obtained by using an implicit Runge-Kutta method of Radau IIA family of order 5 with stepsize control and fine tolerances."
   ]
  },
  {
   "cell_type": "code",
   "execution_count": null,
   "id": "b63f9e95",
   "metadata": {},
   "outputs": [],
   "source": [
    "u0 = [0.5; 0.0]\n",
    "tspan = (0.0, 10.0)\n",
    "\n",
    "a = @manipulate for eps=slider(1:1:20, value=1, label=\"eps\")\n",
    "    prob = ODEProblem(vanderpol!, u0, tspan, eps)\n",
    "    sol = solve(prob, RadauIIA5(), abstol=1e-10,  reltol=1e-10)\n",
    "    plot(sol, vars=1, size=(900,300), xaxis = (\"t\"), leg=false, margin=5mm, \n",
    "         linewidth=2, title=\"Quasi exact solution : y1\", titlefontsize=12)\n",
    "end\n",
    "@layout! a dom\"div\"( observe(_), vbox(:eps))"
   ]
  },
  {
   "cell_type": "markdown",
   "id": "c0eb2f8b",
   "metadata": {},
   "source": [
    "## Radau5 integration"
   ]
  },
  {
   "cell_type": "code",
   "execution_count": null,
   "id": "d4a2c049",
   "metadata": {},
   "outputs": [],
   "source": [
    "u0 = [0.5; 0.0]\n",
    "tspan = (0.0, 10.0)\n",
    "eps = 10.0\n",
    "tol = 1e-4\n",
    "\n",
    "prob = ODEProblem(vanderpol!, u0, tspan, eps)\n",
    "sol = solve(prob, RadauIIA5(), abstol=tol,  reltol=tol)\n",
    "sol_exa = solve(prob, RadauIIA5(), saveat=sol.t, abstol=1e-12, reltol=1e-12)\n",
    "\n",
    "err_y1 = abs.(sol[1,:] - sol_exa[1,:])\n",
    "\n",
    "println(\"Radau5 integration with tol = \", tol)\n",
    "print(\"Elapsed Time : \")\n",
    "@btime sol = solve(prob, RadauIIA5(), abstol=tol,  reltol=tol)\n",
    "println(\"Number of function evaluations : \", sol.destats.nf)\n",
    "println(\"Number of linear solves :        \", sol.destats.nsolve)\n",
    "println(\"Number of accepted steps :       \", sol.destats.naccept)\n",
    "println(\"Number of rejected steps :       \", sol.destats.nreject)\n",
    "\n",
    "ps = plot(sol, vars=1, seriestype=:scatter, xaxis = (\"t\"), leg=false, size=(900,600), margin=5mm, \n",
    "          title=\"Radau5 solution : y1\", titlefontsize=12, markershape=:xcross, markersize=2)\n",
    "pe = plot(sol.t, err_y1, seriestype=:scatter, xaxis = (\"t\"), leg=false, size=(900,600), margin=5mm, \n",
    "          title=\"Global error : |y1 - y1exa|\", titlefontsize=12, markershape=:xcross, markersize=2)\n",
    "plot(ps, pe, layout=(2,1))"
   ]
  },
  {
   "cell_type": "markdown",
   "id": "be008d28",
   "metadata": {},
   "source": [
    "## Dopri 5 integration"
   ]
  },
  {
   "cell_type": "code",
   "execution_count": null,
   "id": "cfb69fa3",
   "metadata": {},
   "outputs": [],
   "source": [
    "u0 = [0.5; 0.0]\n",
    "tspan = (0.0, 10.0)\n",
    "eps = 10.0\n",
    "tol = 1e-4\n",
    "\n",
    "prob = ODEProblem(vanderpol!, u0, tspan, eps)\n",
    "sol = solve(prob, dopri5(), abstol=tol,  reltol=tol)\n",
    "sol_exa = solve(prob, RadauIIA5(), saveat=sol.t, abstol=1e-12, reltol=1e-12)\n",
    "\n",
    "err_y1 = abs.(sol[1,:] - sol_exa[1,:])\n",
    "\n",
    "println(\"Dopri5 integration with tol = \", tol)\n",
    "print(\"Elapsed Time : \")\n",
    "@btime sol = solve(prob, dopri5(), abstol=tol,  reltol=tol)\n",
    "println(\"Number of function evaluations : \", sol.destats.nf)\n",
    "println(\"Number of accepted steps :       \", sol.destats.naccept)\n",
    "println(\"Number of rejected steps :       \", sol.destats.nreject)\n",
    "\n",
    "ps = plot(sol, vars=1, seriestype=:scatter, xaxis = (\"t\"), leg=false, size=(900,600), margin=5mm, \n",
    "          title=\"Dopri5 solution : y1\", titlefontsize=12, markershape=:xcross, markersize=2)\n",
    "pe = plot(sol.t, err_y1, seriestype=:scatter, xaxis = (\"t\"), leg=false, size=(900,600), margin=5mm, \n",
    "          title=\"Global error : |y1 - y1exa|\", titlefontsize=12, markershape=:xcross, markersize=2)\n",
    "plot(ps, pe, layout=(2,1))"
   ]
  },
  {
   "cell_type": "markdown",
   "id": "bb1af50d",
   "metadata": {},
   "source": [
    "## Rock4 integration"
   ]
  },
  {
   "cell_type": "code",
   "execution_count": null,
   "id": "db0d3b5d",
   "metadata": {},
   "outputs": [],
   "source": [
    "u0 = [0.5; 0.0]\n",
    "tspan = (0.0, 10.0)\n",
    "eps = 10.0\n",
    "tol = 1e-4\n",
    "\n",
    "prob = ODEProblem(vanderpol!, u0, tspan, eps)\n",
    "sol = solve(prob, ROCK4(), abstol=tol,  reltol=tol)\n",
    "sol_exa = solve(prob, RadauIIA5(), saveat=sol.t, abstol=1e-12, reltol=1e-12)\n",
    "\n",
    "err_y1 = abs.(sol[1,:] - sol_exa[1,:])\n",
    "\n",
    "println(\"ROCK4 integration with tol = \", tol)\n",
    "print(\"Elapsed Time : \")\n",
    "@btime sol = solve(prob, ROCK4(), abstol=tol,  reltol=tol)\n",
    "println(\"Number of function evaluations : \", sol.destats.nf)\n",
    "println(\"Number of accepted steps :       \", sol.destats.naccept)\n",
    "println(\"Number of rejected steps :       \", sol.destats.nreject)\n",
    "\n",
    "ps = plot(sol, vars=1, seriestype=:scatter, xaxis = (\"t\"), leg=false, size=(900,600), margin=5mm, \n",
    "          title=\"Dopri5 solution : y1\", titlefontsize=12, markershape=:xcross, markersize=2)\n",
    "pe = plot(sol.t, err_y1, seriestype=:scatter, xaxis = (\"t\"), leg=false, size=(900,600), margin=5mm, \n",
    "          title=\"Global error : |y1 - y1exa|\", titlefontsize=12, markershape=:xcross, markersize=2)\n",
    "plot(ps, pe, layout=(2,1))"
   ]
  },
  {
   "cell_type": "markdown",
   "id": "29c0c310",
   "metadata": {},
   "source": [
    "## A fixed timestep Runge Kutta 4"
   ]
  },
  {
   "cell_type": "code",
   "execution_count": null,
   "id": "78801911",
   "metadata": {},
   "outputs": [],
   "source": [
    "u0 = [0.5; 0.0]\n",
    "tspan = (0.0, 10.0)\n",
    "eps = 1.0\n",
    "dt = 5e-2\n",
    "\n",
    "prob = ODEProblem(vanderpol!, u0, tspan, eps)\n",
    "sol = solve(prob, LoopRK4(), dt=dt);\n",
    "sol_exa = solve(prob, RadauIIA5(), saveat=sol.t, abstol=1e-12, reltol=1e-12)\n",
    "\n",
    "err_y1 = abs.(sol[1,:] - sol_exa[1,:])\n",
    "\n",
    "println(\"RK4 integration with dt= \", dt)\n",
    "print(\"Elapsed Time : \")\n",
    "@btime sol = solve(prob, LoopRK4(), dt=dt)\n",
    "println(\"Number of function evaluations : \", 4*(10/dt))\n",
    "\n",
    "ps = plot(sol, vars=1, seriestype=:scatter, xaxis = (\"t\"), leg=false, size=(900,600), margin=5mm, \n",
    "          title=\"RK4 solution : y1\", titlefontsize=12, markershape=:xcross, markersize=2)\n",
    "pe = plot(sol.t, err_y1, seriestype=:scatter, xaxis = (\"t\"), leg=false, size=(900,600), margin=5mm, \n",
    "          title=\"Global error : |y1 - y1exa|\", titlefontsize=12, markershape=:xcross, markersize=2)\n",
    "plot(ps, pe, layout=(2,1))"
   ]
  }
 ],
 "metadata": {
  "@webio": {
   "lastCommId": null,
   "lastKernelId": null
  },
  "kernelspec": {
   "display_name": "Julia 1.6.3",
   "language": "julia",
   "name": "julia-1.6"
  },
  "language_info": {
   "file_extension": ".jl",
   "mimetype": "application/julia",
   "name": "julia",
   "version": "1.6.3"
  }
 },
 "nbformat": 4,
 "nbformat_minor": 5
}
