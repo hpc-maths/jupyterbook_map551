{
 "cells": [
  {
   "cell_type": "markdown",
   "metadata": {},
   "source": [
    "# PC1 : the theory of thermal explosion\n",
    "\n",
    "according to Semenov and Frank-Kamenetskii"
   ]
  },
  {
   "cell_type": "code",
   "execution_count": null,
   "metadata": {},
   "outputs": [],
   "source": [
    "import numpy as np\n",
    "from scipy.integrate import solve_ivp\n",
    "import plotly.graph_objects as go\n",
    "from plotly.subplots import make_subplots"
   ]
  },
  {
   "cell_type": "markdown",
   "metadata": {},
   "source": [
    "## Model 1 - adiabatic explosion"
   ]
  },
  {
   "cell_type": "markdown",
   "metadata": {},
   "source": [
    "**Graph of the function $ T \\rightarrow \\Lambda(T) = B e^{-\\beta T_0/T} (T_b - T)$**"
   ]
  },
  {
   "cell_type": "code",
   "execution_count": null,
   "metadata": {},
   "outputs": [],
   "source": [
    "T0 = 400.\n",
    "Tb = 3000.\n",
    "T = np.linspace(T0,Tb,1000)\n",
    "\n",
    "beta = np.arange(30, 101, 10)\n",
    "\n",
    "fig = go.Figure()\n",
    "\n",
    "for i, beta_i in enumerate(beta):\n",
    "    #print(beta_i)\n",
    "    Lambda = np.exp(-(beta_i*T0)/T) * (Tb-T)\n",
    "    fig.add_trace(go.Scatter(visible=False, x=T, y=Lambda))\n",
    "\n",
    "fig.data[0].visible = True\n",
    "\n",
    "# create slider\n",
    "steps = []\n",
    "for i, beta_i in enumerate(beta):\n",
    "    step = dict(method=\"update\", label = f\"{beta_i}\", args=[{\"visible\": [(el==i) for el in range(beta.size)]}])\n",
    "    steps.append(step)\n",
    "sliders = [dict(currentvalue={'prefix': 'beta = '}, steps=steps)]\n",
    "\n",
    "fig.update_layout(sliders=sliders, yaxis = dict(exponentformat = 'e'), title=\"Lamba(𝑇)\")\n",
    "fig.show()"
   ]
  },
  {
   "cell_type": "markdown",
   "metadata": {},
   "source": [
    "**Evolution of $\\widetilde{\\theta}$ solution of $\\, d_{\\tau} \\widetilde{\\theta} = e^{\\widetilde{\\theta}}$**"
   ]
  },
  {
   "cell_type": "code",
   "execution_count": null,
   "metadata": {},
   "outputs": [],
   "source": [
    "def fcn(t, theta): \n",
    "    return np.exp(theta)\n",
    "\n",
    "tini = 0.0\n",
    "tend = 1.0\n",
    "\n",
    "yini = (0.0,)\n",
    "\n",
    "sol = solve_ivp(fcn, (tini, tend), yini, method='RK45', rtol=1.e-12, atol=1.e-12)\n",
    "\n",
    "fig = go.Figure()\n",
    "fig.add_trace(go.Scatter(x=sol.t, y=sol.y[0]))\n",
    "fig.update_xaxes(range=[0, 1.1])\n",
    "fig.update_layout(title=\"Evolution of theta(t)\")\n",
    "fig.show()"
   ]
  },
  {
   "cell_type": "markdown",
   "metadata": {},
   "source": [
    "## Model 2 - explosion taking into account thermal losses"
   ]
  },
  {
   "cell_type": "markdown",
   "metadata": {},
   "source": [
    "$$\n",
    "\\left\\{\\begin{aligned}\n",
    "d_{\\tau} \\widetilde{\\theta} & = \\exp\\Bigg(\\frac{\\widetilde{\\theta}}{1 + \\widetilde{\\theta} \\, / \\, \\beta}\\Bigg) \\widetilde{Y} - \\alpha_0 \\, \\widetilde{\\theta} \\\\\n",
    "d_{\\tau} \\widetilde{Y} & = -\\frac{1}{\\overline T_r} \\exp\\Bigg(\\frac{\\widetilde{\\theta}}{1 + \\widetilde{\\theta} \\, / \\, \\beta}\\Bigg)  \\widetilde{Y}\n",
    "\\end{aligned}\\right.\n",
    "$$"
   ]
  },
  {
   "cell_type": "code",
   "execution_count": null,
   "metadata": {},
   "outputs": [],
   "source": [
    "class second_model:\n",
    "\n",
    "    def __init__(self, alpha, Tr, beta):\n",
    "        self.alpha = alpha\n",
    "        self.Tr = Tr\n",
    "        self.beta = beta \n",
    "\n",
    "    def fcn(self, t, y):\n",
    "        theta, Y = y\n",
    "        alpha = self.alpha\n",
    "        beta = self.beta\n",
    "        Tr = self.Tr\n",
    "        theta_dot = np.exp(theta/(1+(theta/beta))) * Y - alpha*theta \n",
    "        Y_dot     = (-1/Tr) * np.exp(theta/(1+(theta/beta))) * Y\n",
    "        return (theta_dot, Y_dot)"
   ]
  },
  {
   "cell_type": "markdown",
   "metadata": {},
   "source": [
    "**Evolution of $\\widetilde{\\theta}$ and $Y(t)$**"
   ]
  },
  {
   "cell_type": "code",
   "execution_count": null,
   "metadata": {},
   "outputs": [],
   "source": [
    "alpha = np.arange(0, 2.7, 0.2)\n",
    "Tr = 200.0\n",
    "beta = 30.\n",
    "\n",
    "tini = 0.0\n",
    "tend = 10.0\n",
    "\n",
    "yini = (0.0, 1.0)\n",
    "\n",
    "fig = make_subplots(rows=2, cols=1, vertical_spacing=0.1,\n",
    "                    subplot_titles=(\"Evolution of theta(t)\", \"Evolution of Y(t)\"))\n",
    "\n",
    "for i, alpha_i in enumerate(alpha):\n",
    "    sm = second_model(alpha_i, Tr, beta)\n",
    "    fcn = sm.fcn\n",
    "    sol = solve_ivp(fcn, (tini, tend), yini, method='Radau', atol=1.e-8, rtol=1.e-8)\n",
    "    fig.add_trace(go.Scatter(visible=False, x=sol.t, y=sol.y[0], line_color='#636EFA'), row=1, col=1)\n",
    "    fig.add_trace(go.Scatter(visible=False, x=sol.t, y=sol.y[1], line_color='#636EFA'), row=2, col=1)\n",
    "\n",
    "fig.data[0].visible = True\n",
    "fig.data[1].visible = True\n",
    "\n",
    "# create slider\n",
    "steps = []\n",
    "for i, alpha_i in enumerate(alpha):\n",
    "    step = dict(method=\"update\", label = f\"{alpha_i:.1f}\", \n",
    "                args=[{\"visible\": [(el==2*i) or (el==2*i+1) for el in range(len(fig.data))]}])\n",
    "    steps.append(step)\n",
    "sliders = [dict(currentvalue={'prefix': 'alpha = '}, steps=steps)]\n",
    "    \n",
    "fig.update_layout(sliders=sliders, showlegend=False, height=800, width=800)\n",
    "fig.show()"
   ]
  },
  {
   "cell_type": "markdown",
   "metadata": {},
   "source": [
    "**Graphs of  $e^\\widetilde{\\theta}$ and $q^- (\\widetilde{\\theta})= \\alpha_0 \\, \\widetilde{\\theta}$**"
   ]
  },
  {
   "cell_type": "code",
   "execution_count": null,
   "metadata": {},
   "outputs": [],
   "source": [
    "e = np.exp(1)\n",
    "eover10 = np.exp(1) / 10\n",
    "alpha = np.arange(e-5*eover10, e+5*eover10, eover10)\n",
    "\n",
    "theta = np.linspace(0, 2.5,1000)\n",
    "\n",
    "exp = np.exp(theta)\n",
    "q = alpha_i*theta\n",
    "\n",
    "fig = go.Figure()\n",
    "fig.add_trace(go.Scatter(x=theta, y=exp, name=\"exp(theta)\"))\n",
    "\n",
    "for i, alpha_i in enumerate(alpha):\n",
    "    q = alpha_i*theta\n",
    "    fig.add_trace(go.Scatter(visible=False, x=theta, y=q, name=\"q\"))\n",
    "    \n",
    "fig.data[1].visible = True\n",
    "\n",
    "steps = []\n",
    "for i, alpha_i in enumerate(alpha):\n",
    "    step = dict(method=\"update\", label = f\"{alpha_i:.3f}\", \n",
    "                args=[{\"visible\": [(el==0) or (el==i+1) for el in range(len(fig.data))]}])\n",
    "    steps.append(step)\n",
    "sliders = [dict(currentvalue={'prefix': 'alpha0 = '}, steps=steps)]\n",
    "\n",
    "fig.update_layout(sliders=sliders)\n",
    "fig.show()"
   ]
  },
  {
   "cell_type": "markdown",
   "metadata": {},
   "source": [
    "## Model 3 - explosion taking into account convection\n",
    "\n",
    "$$\n",
    "\\left\\{\\begin{aligned}\n",
    "d_{\\tau} \\widetilde{\\theta} & = e^{\\widetilde{\\theta}} - \\alpha_0 \\, (1 + \\mu \\, \\psi^2) \\, \\widetilde{\\theta} \\\\\n",
    "d_{\\tau} \\psi & = -a \\, \\psi (\\psi^2 + \\widetilde{\\theta_c} - \\widetilde{\\theta})\n",
    "\\end{aligned}\\right.\n",
    "$$"
   ]
  },
  {
   "cell_type": "code",
   "execution_count": null,
   "metadata": {},
   "outputs": [],
   "source": [
    "class third_model:\n",
    "\n",
    "    def __init__(self, alpha0, mu, a, thetac):\n",
    "        self.alpha0 = alpha0\n",
    "        self.mu = mu\n",
    "        self.a = a\n",
    "        self.thetac = thetac\n",
    "\n",
    "    def fcn(self, t, y):\n",
    "        theta, psi = y\n",
    "        alpha0 = self.alpha0\n",
    "        mu = self.mu\n",
    "        a = self.a\n",
    "        thetac = self.thetac\n",
    "        theta_dot = np.exp(theta) - alpha0*(1 + mu*psi*psi) * theta\n",
    "        psi_dot = -a*psi*(psi*psi+thetac-theta)\n",
    "        return (theta_dot, psi_dot)"
   ]
  },
  {
   "cell_type": "markdown",
   "metadata": {},
   "source": [
    "**Evolution of $\\widetilde{\\theta}(t)$ and phase plan $(\\widetilde{\\theta}(t), \\psi)$**"
   ]
  },
  {
   "cell_type": "code",
   "execution_count": null,
   "metadata": {},
   "outputs": [],
   "source": [
    "alpha0 = 2.7 \n",
    "mu = 0.7\n",
    "a =  4.3\n",
    "\n",
    "thetac = np.arange(1.0, 1.066, 0.005)\n",
    "\n",
    "tini = 0. \n",
    "tend = 300.\n",
    "\n",
    "yini = (1.0, 0.4)\n",
    "\n",
    "fig = make_subplots(rows=2, cols=1, vertical_spacing=0.1,\n",
    "                    subplot_titles=(\"Evolution of theta(t)\", \"Phase plan (theta, psi)\"))\n",
    "\n",
    "for i, thetac_i in enumerate(thetac):\n",
    "    tm = third_model(alpha0, mu, a, thetac_i)\n",
    "    fcn = tm.fcn\n",
    "    sol = solve_ivp(fcn, (tini, tend), yini, method='RK45', atol=1.e-8, rtol=1.e-8)\n",
    "    fig.add_trace(go.Scatter(visible=False, x=sol.t, y=sol.y[0], line_color='#636EFA'), row=1, col=1)\n",
    "    fig.add_trace(go.Scatter(visible=False, x=sol.y[0], y=sol.y[1], line_color='#636EFA'), row=2, col=1)\n",
    "\n",
    "fig.data[0].visible = True\n",
    "fig.data[1].visible = True\n",
    "\n",
    "# create slider\n",
    "steps = []\n",
    "for i, thetac_i in enumerate(thetac):\n",
    "    step = dict(method=\"update\", label = f\"{thetac_i:.3f}\", \n",
    "                args=[{\"visible\": [(el==2*i) or (el==2*i+1) for el in range(len(fig.data))]}])\n",
    "    steps.append(step)\n",
    "sliders = [dict(currentvalue={'prefix': 'thetac = '}, steps=steps)]\n",
    "\n",
    "fig.update_layout(sliders=sliders, showlegend=False, height=800, width=800)\n",
    "fig.show()"
   ]
  }
 ],
 "metadata": {
  "@webio": {
   "lastCommId": null,
   "lastKernelId": null
  },
  "kernelspec": {
   "display_name": "Python 3 (ipykernel)",
   "language": "python",
   "name": "python3"
  },
  "language_info": {
   "codemirror_mode": {
    "name": "ipython",
    "version": 3
   },
   "file_extension": ".py",
   "mimetype": "text/x-python",
   "name": "python",
   "nbconvert_exporter": "python",
   "pygments_lexer": "ipython3",
   "version": "3.9.7"
  },
  "widgets": {
   "application/vnd.jupyter.widget-state+json": {
    "state": {},
    "version_major": 2,
    "version_minor": 0
   }
  }
 },
 "nbformat": 4,
 "nbformat_minor": 4
}
