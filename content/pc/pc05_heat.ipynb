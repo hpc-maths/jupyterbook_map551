{
 "cells": [
  {
   "cell_type": "code",
   "execution_count": null,
   "id": "b3bce67b",
   "metadata": {},
   "outputs": [],
   "source": [
    "using DifferentialEquations\n",
    "using ODEInterfaceDiffEq\n",
    "using Plots\n",
    "using Plots.PlotMeasures"
   ]
  },
  {
   "cell_type": "markdown",
   "id": "0f1ad441",
   "metadata": {},
   "source": [
    "# Heat equation"
   ]
  },
  {
   "cell_type": "markdown",
   "id": "0384ed11",
   "metadata": {},
   "source": [
    "We use a discretization through the method of lines (MOL) of the heat equation :\n",
    "\n",
    "$$\n",
    "\\left\\{\n",
    "\\begin{aligned}\n",
    "&\\partial_t  u(t,x) = \\partial^2_{xx} u(t,x) \\qquad{} t\\geq t_0 \\\\\n",
    "&u(t_0,x) = u_0(x)\n",
    "\\end{aligned}\n",
    "\\right.\n",
    "$$\n",
    "\n",
    "In a first part, we focus on this equation on a bounded domain, with homogeneous Neuman boundary conditions."
   ]
  },
  {
   "cell_type": "code",
   "execution_count": null,
   "id": "5f852f63",
   "metadata": {},
   "outputs": [],
   "source": [
    "function heat1d!(du, u, p, t)\n",
    "  nx, dx = p\n",
    "  nx = convert(UInt64, nx)\n",
    "    \n",
    "  oneoverdxdx = 1.0/(dx*dx)\n",
    "  du[1] = oneoverdxdx * (-2*u[1] + 2*u[2])\n",
    "  du[2:nx-1] = oneoverdxdx * (u[1:nx-2] - 2*u[2:nx-1] + u[3:nx])\n",
    "  du[nx] = oneoverdxdx * (2*u[nx-1] - 2*u[nx])\n",
    "end;"
   ]
  },
  {
   "cell_type": "markdown",
   "id": "a62c9fe6",
   "metadata": {},
   "source": [
    "## Integration of the dynamics on a bounded domain"
   ]
  },
  {
   "cell_type": "code",
   "execution_count": null,
   "id": "be0de7f0",
   "metadata": {},
   "outputs": [],
   "source": [
    "xmin = -2.0\n",
    "xmax =  2.0\n",
    "nx = 401\n",
    "\n",
    "tini = 0. \n",
    "tend = 0.1\n",
    "tspan = (tini, tend)\n",
    "\n",
    "x = collect(range(xmin, xmax, length=nx))\n",
    "freq = pi/((xmax-xmin)/2)\n",
    "uini = cos.(freq*x)\n",
    "\n",
    "uexa = exp.(-(freq^2)*(tend-tini))*uini\n",
    "\n",
    "dx = (xmax-xmin)/(nx-1)\n",
    "\n",
    "p = [nx, dx]\n",
    "\n",
    "tol = 1e-4\n",
    "prob = ODEProblem(heat1d!, uini, tspan, p)\n",
    "\n",
    "sol = solve(prob, DP5(), abstol=tol, reltol=tol)\n",
    "#sol = solve(prob, ROCK4(), abstol=tol, reltol=tol)\n",
    "#sol = solve(prob, RadauIIA5(), abstol=tol, reltol=tol)\n",
    "\n",
    "println(\"Number of function evaluations : \", sol.destats.nf)\n",
    "println(\"Number of linear solves :        \", sol.destats.nsolve)\n",
    "println(\"Number of accepted steps :       \", sol.destats.naccept)\n",
    "println(\"Number of rejected steps :       \", sol.destats.nreject)\n",
    "\n",
    "err = abs.(sol[end] - uexa)\n",
    "\n",
    "ps = plot(sol[end], seriestype=:scatter, size=(900,300), leg=false, xaxis = (\"x\"), bottom_margin=10mm, \n",
    "          title=\"Approximate solution at time $tend\", titlefontsize=12, markershape=:xcross, markersize=2)\n",
    "pe = plot(x, err, xaxis = (\"x\"), leg=false, size=(900,600), bottom_margin=10mm, \n",
    "          title=\"Error at time $tend\", titlefontsize=12, markershape=:xcross, markersize=2)\n",
    "plot(ps, pe, layout=(2,1))"
   ]
  },
  {
   "cell_type": "markdown",
   "id": "e4d89303",
   "metadata": {},
   "source": [
    "## Evolution of time steps"
   ]
  },
  {
   "cell_type": "code",
   "execution_count": null,
   "id": "4ea095ad",
   "metadata": {},
   "outputs": [],
   "source": [
    "xmin = -2.0\n",
    "xmax =  2.0\n",
    "nx = 401\n",
    "\n",
    "tini = 0. \n",
    "tend = 1.0    \n",
    "tspan = (tini, tend)\n",
    "\n",
    "x = collect(range(xmin, xmax, length=nx))\n",
    "freq = pi/((xmax-xmin)/2)\n",
    "uini = cos.(freq*x)\n",
    "#uini = 1*(x .> 0) - 1*(x .< 0)\n",
    "\n",
    "dx = (xmax-xmin)/(nx-1)\n",
    "\n",
    "p = [nx, dx]\n",
    "\n",
    "tol = 1e-6\n",
    "prob = ODEProblem(heat1d!, uini, tspan, p)\n",
    "\n",
    "sol = solve(prob, ROCK4(), abstol=tol, reltol=tol)\n",
    "#sol = solve(prob, RadauIIA5(), abstol=tol, reltol=tol)\n",
    "\n",
    "println(\"Number of function evaluations : \", sol.destats.nf)\n",
    "println(\"Number of linear solves :        \", sol.destats.nsolve)\n",
    "println(\"Number of accepted steps :       \", sol.destats.naccept)\n",
    "println(\"Number of rejected steps :       \", sol.destats.nreject)\n",
    "\n",
    "dt = sol.t[2:end]-sol.t[1:end-1]\n",
    "\n",
    "ps = plot(sol[end], size=(900,300), leg=false, xaxis = (\"x\"), bottom_margin=15mm, \n",
    "          title=\"Approximate solution at time $tend\", titlefontsize=12, markershape=:xcross, markersize=2)\n",
    "pe = plot(sol.t[1:end-1], dt, xaxis = (\"t\"), yaxis = (\"dt\"), size=(900,600), leg=false, margin=10mm, \n",
    "          title=\"Time steps\", titlefontsize=12, seriestype=:scatter, markershape=:xcross, markersize=2)\n",
    "plot(ps, pe, layout=(2,1))"
   ]
  },
  {
   "cell_type": "markdown",
   "id": "df71d7d8",
   "metadata": {},
   "source": [
    "## Back to the heat equation on $\\mathbb{R}$\n",
    "\n",
    "In a second part, we check how well the numerical solution on a bounded domain can approximate a solution of the heat equation on $\\mathbb{R}$."
   ]
  },
  {
   "cell_type": "code",
   "execution_count": null,
   "id": "8bf9a85e",
   "metadata": {},
   "outputs": [],
   "source": [
    "function fcn_funda(t, x)\n",
    "    y = (1/(2*sqrt(pi*t))) * exp.(-(x .* x)/(4*t))\n",
    "end;"
   ]
  },
  {
   "cell_type": "code",
   "execution_count": null,
   "id": "1a1dc41e",
   "metadata": {},
   "outputs": [],
   "source": [
    "xmin = -2.0\n",
    "xmax =  2.0\n",
    "nx = 2001\n",
    "\n",
    "tini = 1e-5 \n",
    "tend = 0.01\n",
    "tspan = (tini, tend)\n",
    "\n",
    "x = collect(range(xmin, xmax, length=nx))\n",
    "uini = fcn_funda(tini, x)\n",
    "ufunda = fcn_funda(tend, x)\n",
    "\n",
    "dx = (xmax-xmin)/(nx-1)\n",
    "\n",
    "p = [nx, dx]\n",
    "\n",
    "tol = 1e-4\n",
    "prob = ODEProblem(heat1d!, uini, tspan, p)\n",
    "\n",
    "sol_qexa = solve(prob, ROCK4(), abstol=1e-12, reltol=1e-12)\n",
    "sol = solve(prob, ROCK4(), abstol=tol, reltol=tol)\n",
    "\n",
    "println(\"Number of function evaluations : \", sol.destats.nf)\n",
    "println(\"Number of linear solves :        \", sol.destats.nsolve)\n",
    "println(\"Number of accepted steps :       \", sol.destats.naccept)\n",
    "println(\"Number of rejected steps :       \", sol.destats.nreject)\n",
    "\n",
    "err_qexa  = abs.(sol[end] - sol_qexa[end])\n",
    "err_funda = abs.(sol[end] - ufunda)\n",
    "\n",
    "ps = plot(sol[end], seriestype=:scatter, size=(900,300), leg=false, xaxis = (\"x\"), bottom_margin=10mm, \n",
    "          title=\"Approximate solution at time $tend\", titlefontsize=12, markershape=:xcross, markersize=2)\n",
    "pe = plot(x, [err_funda, err_qexa], xaxis = (\"x\"), size=(900,600),\n",
    "          label = [\"with respect to the fundamental solution\" \"with respect to the quasi-exact solution\"], \n",
    "          bottom_margin=10mm, title=\"Error at time $tend\", titlefontsize=12, markershape=:xcross, markersize=2)\n",
    "plot(ps, pe, layout=(2,1))"
   ]
  }
 ],
 "metadata": {
  "@webio": {
   "lastCommId": null,
   "lastKernelId": null
  },
  "kernelspec": {
   "display_name": "Julia 1.6.3",
   "language": "julia",
   "name": "julia-1.6"
  },
  "language_info": {
   "file_extension": ".jl",
   "mimetype": "application/julia",
   "name": "julia",
   "version": "1.6.3"
  }
 },
 "nbformat": 4,
 "nbformat_minor": 5
}
