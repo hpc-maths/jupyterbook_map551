{
 "cells": [
  {
   "cell_type": "code",
   "execution_count": null,
   "metadata": {
    "scrolled": false
   },
   "outputs": [],
   "source": [
    "import numpy as np\n",
    "\n",
    "from scipy.integrate import solve_ivp\n",
    "from scipy.linalg import null_space\n",
    "\n",
    "import plotly.graph_objects as go\n",
    "from plotly.subplots import make_subplots\n",
    "import plotly.io as pio\n",
    "pio.templates.default = \"seaborn\"\n",
    "\n",
    "import warnings"
   ]
  },
  {
   "cell_type": "markdown",
   "metadata": {},
   "source": [
    "# Thermal explosion"
   ]
  },
  {
   "cell_type": "markdown",
   "metadata": {},
   "source": [
    "In the first PC, we have considered the dynamical system modelint thermal explosion in the large activation energy and large heat of reaction limit:\n",
    "\n",
    "$$\n",
    "{\\mathrm d}_\\tau \\widetilde\\theta = e^{\\widetilde\\theta} -  \\alpha_0\\,\\widetilde\\theta.\n",
    "$$\n",
    "\n",
    "For the purpose of studying the branches of equilibrium points and limit points, we rather consider the following\n",
    "form of the system:\n",
    "\n",
    "$$\n",
    "{\\mathrm d}_t \\theta = {\\mathrm F}_{\\mathrm k} \\, e^{\\theta} - \\theta\n",
    "$$\n",
    "\n",
    "where the Frank-Kamemetskii parameter ${\\mathrm F}_{\\mathrm k} = 1/\\alpha_0$ and which is obtained by a simple change of the temporal scale. The ${\\mathrm F}_{\\mathrm k}$ parameter is here taken as the bifurcation parameter."
   ]
  },
  {
   "cell_type": "code",
   "execution_count": null,
   "metadata": {},
   "outputs": [],
   "source": [
    "def f(y):\n",
    "    fk, theta = y\n",
    "    return np.array([fk * np.exp(theta) - theta])\n",
    "\n",
    "# specific form of f to use solve_ivp method\n",
    "def f2(t, y, fk):\n",
    "    return f((fk, y))\n",
    "\n",
    "def df(y):\n",
    "    fk, theta = y\n",
    "    return np.array([[fk * np.exp(theta) - 1]])\n",
    "\n",
    "def df_aug(y) :\n",
    "    fk, theta = y\n",
    "    return np.matrix(np.array([np.exp(theta), fk * np.exp(theta) - 1]))"
   ]
  },
  {
   "cell_type": "code",
   "execution_count": null,
   "metadata": {},
   "outputs": [],
   "source": [
    "fk_lim = 1/np.exp(1)  \n",
    "\n",
    "fk = 0.1\n",
    "\n",
    "tini = 0. \n",
    "tend = 10.\n",
    "\n",
    "yini = (0.,)\n",
    "\n",
    "tol = 1e-10\n",
    "sol = solve_ivp(f2, (tini, tend), yini, method=\"RK45\", args=(fk,), rtol=tol, atol=tol)\n",
    "\n",
    "fig = go.Figure()\n",
    "\n",
    "fig.add_trace(go.Scatter(x=sol.t, y=sol.y[0], name='theta'))\n",
    "\n",
    "steps = []\n",
    "for fki in np.arange(0.1, fk_lim, 0.05):\n",
    "    sol = solve_ivp(f2, (tini, tend), yini, method=\"RK45\", args=(fki,), rtol=tol, atol=tol)\n",
    "    args = [{\"x\": [sol.t], \"y\": [sol.y[0]]}]\n",
    "    step = dict(method=\"update\", label = f\"{fki:.2f}\", args=args)\n",
    "    steps.append(step)\n",
    "sliders = [dict(currentvalue={'prefix': 'Fk = '}, steps=steps)]\n",
    "\n",
    "fig.update_layout(sliders=sliders)\n",
    "fig.update_xaxes(title_text=\"t\")\n",
    "fig.update_yaxes(title_text=\"theta\")\n",
    "\n",
    "fig['layout']['sliders'][0]['pad']=dict(t=50)\n",
    "\n",
    "fig.show()"
   ]
  },
  {
   "cell_type": "markdown",
   "metadata": {},
   "source": [
    "## Natural continuation"
   ]
  },
  {
   "cell_type": "code",
   "execution_count": null,
   "metadata": {},
   "outputs": [],
   "source": [
    "def nat_cont_trivial_pred(sol_ini, npts, dlamb, f, df, tol=1.e-8, nmax_newton=100):\n",
    "        \n",
    "    print(\"Natural continuation (trivial prediction)\")\n",
    "            \n",
    "    sol = np.zeros((len(sol_ini), npts))\n",
    "    sol[:,0] = sol_ini\n",
    "    \n",
    "    is_stable = np.zeros(npts, dtype=bool)\n",
    "    eig_vals_eq = np.linalg.eigvals(df(sol_ini))\n",
    "    is_stable[0] = np.all(np.real(eig_vals_eq) < 0)\n",
    "    \n",
    "    nb_iter_newton = 0\n",
    "        \n",
    "    for it in range(npts-1):\n",
    "               \n",
    "        # Newton iteration\n",
    "        soln = np.copy(sol[:, it])\n",
    "        soln[0] = soln[0] + dlamb\n",
    "        #print(\"Iter nb \", 0, \" ||f(y)|| = \",  np.linalg.norm(f(soln)))\n",
    "        for it_newton in range(nmax_newton):\n",
    "            soln[1:] = soln[1:] + np.linalg.solve(df(soln), -f(soln))\n",
    "            #print(\"Iter nb \", it_newton+1, \" ||f(y)|| = \",  np.linalg.norm(f(soln)))\n",
    "            \n",
    "            if (np.linalg.norm(f(soln)) < tol):\n",
    "                nb_iter_newton += it_newton+1\n",
    "                #print(it_newton+1)\n",
    "                break\n",
    "                \n",
    "        if (np.linalg.norm(f(soln)) > tol):\n",
    "            warnings.warn(f\"Newton may not have converged\")\n",
    "            return sol[:,:it+1], is_stable[:it+1]\n",
    "        \n",
    "        eig_vals = np.linalg.eigvals(df(soln))\n",
    "        is_stable[it+1] = np.all(np.real(eig_vals)<0)\n",
    "        sol[:, it+1] = soln\n",
    "        \n",
    "    print(f\"Average number of newton iterations per step : {nb_iter_newton/(npts-1)}\")\n",
    "        \n",
    "    return sol, is_stable"
   ]
  },
  {
   "cell_type": "code",
   "execution_count": null,
   "metadata": {},
   "outputs": [],
   "source": [
    "sol_ini = np.array([0.,0.])\n",
    "npts = 100\n",
    "dlamb = 1e-2\n",
    "sol, is_stable = nat_cont_trivial_pred(sol_ini, npts, dlamb, f, df)\n",
    "\n",
    "fig = go.Figure()\n",
    "marker_unstab=dict(symbol='x', color='rgb(196,78,82)')\n",
    "marker_stab=dict(symbol='x', color='rgb(85,168,104)')\n",
    "fig.add_trace(go.Scatter(x=sol[0, is_stable], y=sol[1, is_stable], name='stable sol.', mode='markers', marker=marker_stab, showlegend=True))\n",
    "fig.add_trace(go.Scatter(x=sol[0, np.logical_not(is_stable)], y=sol[1, np.logical_not(is_stable)], name='unstable sol.', mode='markers', marker=marker_unstab))\n",
    "fig.update_xaxes(title_text=\"Fk\")\n",
    "fig.update_yaxes(title_text=\"theta\")\n",
    "fig.show()"
   ]
  },
  {
   "cell_type": "markdown",
   "metadata": {},
   "source": [
    "## Pseudo arc-length"
   ]
  },
  {
   "cell_type": "code",
   "execution_count": null,
   "metadata": {},
   "outputs": [],
   "source": [
    "def pseudo_arclength_cont(sol_ini, vect_ini, npts, ds, f, df, tol=1.e-8, nmax_newton=100):\n",
    "                \n",
    "    sol = np.zeros((len(sol_ini), npts))\n",
    "    sol[:,0] = sol_ini\n",
    "    \n",
    "    is_stable = np.empty(npts, dtype=bool)\n",
    "    eig_vals_eq = np.linalg.eigvals(df(sol_ini)[:,1:])\n",
    "    is_stable[0] = np.all(np.real(eig_vals_eq) < 0)\n",
    "            \n",
    "    vect = vect_ini\n",
    "    sol_n = sol_ini\n",
    "    \n",
    "    for inpts in range(npts-1):\n",
    "        sol_pred = sol_n + ds * vect\n",
    "        # Newton iteration\n",
    "        sol_n = sol_pred\n",
    "        res = np.concatenate((np.array([0]),f(sol_n)))\n",
    "        for it_newton in range(nmax_newton):\n",
    "            jac = np.block([[vect],[df(sol_n)]])\n",
    "            sol_n += np.linalg.solve(jac, -res)\n",
    "            res = np.concatenate((np.array([np.dot(sol_n-sol_pred,vect)]), f(sol_n)))\n",
    "            err = np.sum(res)\n",
    "            if (np.sum(res) < tol):\n",
    "                break\n",
    "        if (np.sum(res)>tol) :\n",
    "            warnings.warn(\"Newton may not have converged\")\n",
    "            print(err)\n",
    "            \n",
    "        sol[:,inpts+1] = sol_n\n",
    "        \n",
    "        eig_vals_eq = np.linalg.eigvals(df(sol_n)[:,1:])\n",
    "        is_stable[inpts+1] = np.all(np.real(eig_vals_eq) < 0)\n",
    "            \n",
    "        vect_old = np.copy(vect)\n",
    "        \n",
    "        vect = null_space(df(sol_n))[:,0] ## computation of a new tangent vector at the new point \n",
    "        \n",
    "        if np.dot(vect, vect_old) < 0: ## checking that we still go in the same direction\n",
    "            vect = -vect\n",
    "                            \n",
    "    return sol, is_stable"
   ]
  },
  {
   "cell_type": "code",
   "execution_count": null,
   "metadata": {},
   "outputs": [],
   "source": [
    "yeq_ini = np.array([0.])\n",
    "lamb_ini = 0.\n",
    "sol_ini = np.array([0.,0.])\n",
    "vect_ini = np.array([1.,0.])\n",
    "npts = 1000\n",
    "ds = 1e-2\n",
    "sol, is_stable = pseudo_arclength_cont(sol_ini, vect_ini, npts, ds, f, df_aug)\n",
    "\n",
    "fig = go.Figure()\n",
    "marker_unstab=dict(symbol='x', color='rgb(196,78,82)')\n",
    "marker_stab=dict(symbol='x', color='rgb(85,168,104)')\n",
    "fig.add_trace(go.Scatter(x=sol[0, is_stable], y=sol[1, is_stable], name='stable sol.', mode='markers', marker=marker_stab))\n",
    "fig.add_trace(go.Scatter(x=sol[0, np.logical_not(is_stable)], y=sol[1, np.logical_not(is_stable)], name='unstable sol.', mode='markers', marker=marker_unstab))\n",
    "fig.update_xaxes(title_text=\"Fk\")\n",
    "fig.update_yaxes(title_text=\"theta\")\n",
    "fig.show()"
   ]
  },
  {
   "cell_type": "code",
   "execution_count": null,
   "metadata": {},
   "outputs": [],
   "source": []
  }
 ],
 "metadata": {
  "@webio": {
   "lastCommId": null,
   "lastKernelId": null
  },
  "kernelspec": {
   "display_name": "Python 3 (ipykernel)",
   "language": "python",
   "name": "python3"
  },
  "language_info": {
   "codemirror_mode": {
    "name": "ipython",
    "version": 3
   },
   "file_extension": ".py",
   "mimetype": "text/x-python",
   "name": "python",
   "nbconvert_exporter": "python",
   "pygments_lexer": "ipython3",
   "version": "3.9.7"
  },
  "latex_envs": {
   "LaTeX_envs_menu_present": true,
   "autoclose": false,
   "autocomplete": false,
   "bibliofile": "biblio.bib",
   "cite_by": "apalike",
   "current_citInitial": 1,
   "eqLabelWithNumbers": true,
   "eqNumInitial": 1,
   "hotkeys": {
    "equation": "Ctrl-E",
    "itemize": "Ctrl-I"
   },
   "labels_anchors": false,
   "latex_user_defs": false,
   "report_style_numbering": false,
   "user_envs_cfg": false
  }
 },
 "nbformat": 4,
 "nbformat_minor": 2
}
