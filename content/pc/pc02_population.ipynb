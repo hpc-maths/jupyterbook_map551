{
 "cells": [
  {
   "cell_type": "code",
   "execution_count": null,
   "id": "6545312f",
   "metadata": {},
   "outputs": [],
   "source": [
    "import numpy as np\n",
    "from scipy.integrate import solve_ivp\n",
    "import plotly.graph_objects as go\n",
    "from plotly.subplots import make_subplots"
   ]
  },
  {
   "cell_type": "markdown",
   "id": "b5a8c529",
   "metadata": {},
   "source": [
    "# PC2 : Population dynamics"
   ]
  },
  {
   "cell_type": "markdown",
   "id": "a5cff326",
   "metadata": {},
   "source": [
    "## The Lotka-Volterra model\n",
    "\n",
    "By representing by $u_1(t)$ the total mass of plants and $u_2(t)$ the total mass of herbivores at the moment $t$, Lotka introduces the following model :\n",
    "\n",
    "$$\n",
    "\\left\\{\\begin{aligned}\n",
    "\\mathrm{d}_t u_1 & = u_1 \\, (1-u_2)\\\\\n",
    "\\mathrm{d}_t u_2 & = u_2 \\, (-\\alpha+u_1)\n",
    "\\end{aligned}\\right.\n",
    "$$"
   ]
  },
  {
   "cell_type": "code",
   "execution_count": null,
   "id": "d19027e9",
   "metadata": {
    "tags": [
     "hide-input"
    ]
   },
   "outputs": [],
   "source": [
    "class lotka_model:\n",
    "\n",
    "    def __init__(self, alpha):\n",
    "        self.alpha = alpha\n",
    "\n",
    "    def fcn(self, t, u):\n",
    "        u1, u2 = u\n",
    "        alpha = self.alpha\n",
    "        u1_dot = u1 * (1 - u2)\n",
    "        u2_dot = u2 * (-alpha + u1)\n",
    "        return (u1_dot, u2_dot)"
   ]
  },
  {
   "cell_type": "code",
   "execution_count": null,
   "id": "4041088a",
   "metadata": {},
   "outputs": [],
   "source": [
    "alpha = np.arange(0.5,2.6,0.2)\n",
    "\n",
    "lm = lotka_model(alpha[0])\n",
    "fcn = lm.fcn\n",
    "\n",
    "uini = (0.5, 0.5)\n",
    "tini = 0\n",
    "tend = 200\n",
    "\n",
    "tol = 1.e-8\n",
    "\n",
    "sol = solve_ivp(fcn, (tini, tend), uini, rtol=tol, atol=tol)\n",
    "u1 = sol.y[0]; u2 = sol.y[1]\n",
    "inv = u1 + u2 - np.log(u2 * np.power(u1,alpha[0]))\n",
    "\n",
    "fig = make_subplots(rows=3, cols=1, subplot_titles=(\"Phase portrait\", \"Solutions\", \"Invariant\"), vertical_spacing=0.12)\n",
    "fig.add_trace(go.Scatter(x=u1, y=u2, showlegend=False), row=1, col=1)\n",
    "fig.add_trace(go.Scatter(x=sol.t, y=u1, name=\"u1\"), row=2, col=1)\n",
    "fig.add_trace(go.Scatter(x=sol.t, y=u2, name=\"u2\"), row=2, col=1)\n",
    "fig.add_trace(go.Scatter(x=sol.t, y=inv, showlegend=False), row=3, col=1)\n",
    "\n",
    "#create slider\n",
    "steps = []\n",
    "for alpha_i in alpha:\n",
    "    lm = lotka_model(alpha_i)\n",
    "    fcn = lm.fcn\n",
    "    sol = solve_ivp(fcn, (tini, tend), uini, rtol=tol, atol=tol)\n",
    "    u1 = sol.y[0]; u2 = sol.y[1]\n",
    "    inv = u1 + u2 - np.log(u2 * np.power(u1,alpha_i))\n",
    "    step = dict(method=\"update\", label = f\"{alpha_i:.2f}\", args=[{\"x\": [u1,sol.t,sol.t,sol.t], \n",
    "                                                                  \"y\": [u2, u1, u2, inv]}])\n",
    "    steps.append(step)\n",
    "sliders = [dict(currentvalue={'prefix': 'alpha = '}, steps=steps)]\n",
    "\n",
    "fig.update_xaxes(title_text=\"u1\", range=[0, 8], row=1)\n",
    "fig.update_yaxes(title_text=\"u2\", range=[0, 5], row=1)\n",
    "fig.update_xaxes(title_text=\"t\", row=2)\n",
    "fig.update_yaxes(title_text=\"t\", range=[0, 8], row=2)\n",
    "fig.update_xaxes(title_text=\"t\", row=3)\n",
    "fig.update_yaxes(tickformat='.7f', row=3)\n",
    "fig.update_layout(sliders=sliders, height=1000, legend=dict(x=0.01, y=0.58, bgcolor='rgba(0,0,0,0.1)'))\n",
    "fig['layout']['sliders'][0]['pad']=dict(t=50)\n",
    "\n",
    "fig.show()"
   ]
  },
  {
   "cell_type": "markdown",
   "id": "84433fef",
   "metadata": {
    "tags": [
     "hide-input"
    ]
   },
   "source": [
    "## Adding intraspecific competition\n",
    "\n",
    "If we modify the Lotka-Voltera model to take into account the competition between prey, we obtain the following model :\n",
    "\n",
    "$$\n",
    "\\left\\{\\begin{aligned}\n",
    "\\mathrm{d}_t u_1 & = u_1 \\, (1-\\frac{u_1}{K}-u_2)\\\\\n",
    "\\mathrm{d}_t u_2 & = (u_1 - \\alpha) u_2\n",
    "\\end{aligned}\\right.\n",
    "$$"
   ]
  },
  {
   "cell_type": "code",
   "execution_count": null,
   "id": "4da9ffaa",
   "metadata": {},
   "outputs": [],
   "source": [
    "class lotka_competitive_model:\n",
    "\n",
    "    def __init__(self, alpha, K):\n",
    "        self.alpha = alpha\n",
    "        self.K = K\n",
    "\n",
    "    def fcn(self, t, u):\n",
    "        u1, u2 = u\n",
    "        alpha = self.alpha\n",
    "        K = self.K\n",
    "        u1_dot = u1 * (1 - u1/K - u2)\n",
    "        u2_dot = (u1 - alpha) * u2\n",
    "        return (u1_dot, u2_dot)"
   ]
  },
  {
   "cell_type": "code",
   "execution_count": null,
   "id": "7b378d99",
   "metadata": {},
   "outputs": [],
   "source": [
    "alpha = np.arange(0.1,3.1,0.1)\n",
    "K = 2\n",
    "lcm = lotka_competitive_model(alpha[0], K)\n",
    "fcn = lcm.fcn\n",
    "\n",
    "uini = (1., 1.)\n",
    "tini = 0\n",
    "tend = 70\n",
    "\n",
    "tol = 1.e-8\n",
    "\n",
    "sol = solve_ivp(fcn, (tini, tend), uini, rtol=tol, atol=tol)\n",
    "u1 = sol.y[0]; u2 = sol.y[1]\n",
    "\n",
    "fig = make_subplots(rows=2, cols=1, subplot_titles=(\"Phase portrait\", \"Solutions\"), vertical_spacing=0.14)\n",
    "fig.add_trace(go.Scatter(x=u1, y=u2, showlegend=False), row=1, col=1)\n",
    "fig.add_trace(go.Scatter(x=sol.t, y=u1, name=\"u1\"), row=2, col=1)\n",
    "fig.add_trace(go.Scatter(x=sol.t, y=u2, name=\"u2\"), row=2, col=1)\n",
    "\n",
    "#create slider\n",
    "steps = []\n",
    "for alpha_i in alpha:\n",
    "    lcm = lotka_competitive_model(alpha_i, K)\n",
    "    fcn = lcm.fcn\n",
    "    sol = solve_ivp(fcn, (tini, tend), uini, rtol=tol, atol=tol)\n",
    "    u1 = sol.y[0]; u2 = sol.y[1]\n",
    "    step = dict(method=\"update\", label = f\"{alpha_i:.2f}\", args=[{\"x\": [u1,sol.t,sol.t], \"y\": [u2, u1, u2]}])\n",
    "    steps.append(step)\n",
    "sliders = [dict(currentvalue={'prefix': 'alpha = '}, steps=steps)]\n",
    "\n",
    "fig.update_xaxes(title_text=\"u1\", range=[-0.1, 2.5], row=1)\n",
    "fig.update_yaxes(title_text=\"u2\", range=[-0.1, 2.5], row=1)\n",
    "fig.update_xaxes(title_text=\"t\", row=2)\n",
    "fig.update_yaxes(range=[-0.1, 2.5], row=2)\n",
    "fig.update_layout(sliders=sliders, height=800, legend=dict(x=0.88, y=0.38, bgcolor='rgba(0,0,0,0.1)'))\n",
    "fig['layout']['sliders'][0]['pad']=dict(t=50)\n",
    "\n",
    "fig.show()"
   ]
  },
  {
   "cell_type": "markdown",
   "id": "825b3ac4",
   "metadata": {
    "tags": [
     "hide-input"
    ]
   },
   "source": [
    "## Rosenzweig-MacArthur model\n",
    "\n",
    "American ecologists Robert Robert MacArthur (1930-1972) et Michael L. Rosenzweig studied the following prey-predator model :\n",
    "\n",
    "$$\n",
    "\\left\\{\\begin{aligned}\n",
    "\\mathrm{d}_t u_1  & = u_1 \\, \\Big( 1-\\frac{u_1}{K} \\Big) - \\frac{u_1 u_2}{1+u_1}\\\\\n",
    "\\mathrm{d}_t u_2  & = u_2 \\Big( \\frac{u_1}{1+u_1} - \\alpha \\Big)  \n",
    "\\end{aligned}\\right.\n",
    "$$"
   ]
  },
  {
   "cell_type": "code",
   "execution_count": null,
   "id": "0d680666",
   "metadata": {},
   "outputs": [],
   "source": [
    "class rosenzweig_model:\n",
    "\n",
    "    def __init__(self, alpha, K):\n",
    "        self.alpha = alpha\n",
    "        self.K = K\n",
    "\n",
    "    def fcn(self, t, u):\n",
    "        u1, u2 = u\n",
    "        alpha = self.alpha\n",
    "        K = self.K\n",
    "        u1_dot = u1 * (1 - (u1/K)) - ((u1*u2)/(1+u1))\n",
    "        u2_dot = u2 * ((u1/(1+u1)) - alpha)\n",
    "        return (u1_dot, u2_dot)"
   ]
  },
  {
   "cell_type": "code",
   "execution_count": null,
   "id": "48b19591",
   "metadata": {},
   "outputs": [],
   "source": [
    "alpha = np.arange(0.2,0.65,0.05)\n",
    "K = 2\n",
    "rm = rosenzweig_model(alpha[0], K)\n",
    "fcn = rm.fcn\n",
    "\n",
    "uini = (1., 1.)\n",
    "tini = 0\n",
    "tend = 200\n",
    "\n",
    "tol = 1.e-8\n",
    "\n",
    "sol = solve_ivp(fcn, (tini, tend), uini, rtol=tol, atol=tol)\n",
    "u1 = sol.y[0]; u2 = sol.y[1]\n",
    "\n",
    "fig = make_subplots(rows=2, cols=1, subplot_titles=(\"Phase portrait\", \"Solutions\"), vertical_spacing=0.15)\n",
    "fig.add_trace(go.Scatter(x=u1, y=u2, showlegend=False), row=1, col=1)\n",
    "fig.add_trace(go.Scatter(x=sol.t, y=u1, name=\"u1\", mode=\"lines\"), row=2, col=1)\n",
    "fig.add_trace(go.Scatter(x=sol.t, y=u2, name=\"u2\", mode=\"lines\"), row=2, col=1)\n",
    "\n",
    "#create slider\n",
    "steps = []\n",
    "for alpha_i in alpha:\n",
    "    rm = rosenzweig_model(alpha_i, K)\n",
    "    fcn = rm.fcn\n",
    "    sol = solve_ivp(fcn, (tini, tend), uini, rtol=tol, atol=tol)\n",
    "    u1 = sol.y[0]; u2 = sol.y[1]\n",
    "    step = dict(method=\"update\", label = f\"{alpha_i:.2f}\", args=[{\"x\": [u1,sol.t,sol.t], \"y\": [u2, u1, u2]}])\n",
    "    steps.append(step)\n",
    "sliders = [dict(currentvalue={'prefix': 'alpha = '}, steps=steps)]\n",
    "\n",
    "fig.update_xaxes(title_text=\"u1\", range=[-0.1, 2.5], row=1)\n",
    "fig.update_yaxes(title_text=\"u2\", range=[-0.1, 2.5], row=1)\n",
    "fig.update_xaxes(title_text=\"t\", row=2)\n",
    "fig.update_yaxes(range=[-0.1, 2.5], row=2)\n",
    "fig.update_layout(sliders=sliders, height=800, legend=dict(x=0.88, y=0.38, bgcolor='rgba(0,0,0,0.1)'))\n",
    "fig['layout']['sliders'][0]['pad']=dict(t=50)\n",
    "\n",
    "fig.show()"
   ]
  }
 ],
 "metadata": {
  "@webio": {
   "lastCommId": null,
   "lastKernelId": null
  },
  "celltoolbar": "Format de la Cellule Texte Brut",
  "kernelspec": {
   "display_name": "Python 3 (ipykernel)",
   "language": "python",
   "name": "python3"
  },
  "language_info": {
   "codemirror_mode": {
    "name": "ipython",
    "version": 3
   },
   "file_extension": ".py",
   "mimetype": "text/x-python",
   "name": "python",
   "nbconvert_exporter": "python",
   "pygments_lexer": "ipython3",
   "version": "3.9.7"
  }
 },
 "nbformat": 4,
 "nbformat_minor": 5
}
