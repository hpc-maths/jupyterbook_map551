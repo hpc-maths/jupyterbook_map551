{
 "cells": [
  {
   "cell_type": "code",
   "execution_count": null,
   "id": "10d029f7",
   "metadata": {},
   "outputs": [],
   "source": [
    "using DifferentialEquations\n",
    "using ODEInterfaceDiffEq\n",
    "using Plots\n",
    "using Plots.PlotMeasures\n",
    "##plotlyjs()"
   ]
  },
  {
   "cell_type": "markdown",
   "id": "a91a36b4",
   "metadata": {},
   "source": [
    "# Complete model: fuel consumption and no FK-linearization\n",
    "\n",
    "$$\n",
    "\\left\\{\\begin{aligned}\n",
    "\\partial_\\tau \\theta - {\\displaystyle 1 \\over \\displaystyle \\lambda} \\partial_{zz} \\theta & = \n",
    "\\exp\\Big(\\frac{\\theta}{1+\\theta/\\beta}\\Big)\\, Y\\\\\n",
    "\\partial_\\tau Y - {\\displaystyle 1 \\over \\displaystyle \\lambda} \\partial_{zz} Y & = - \\varepsilon \\exp\\Big(\\frac{\\theta}{1+\\theta/\\beta}\\Big)\\, Y\n",
    "\\end{aligned}\\right.\n",
    "$$"
   ]
  },
  {
   "cell_type": "code",
   "execution_count": null,
   "id": "b4091622",
   "metadata": {},
   "outputs": [],
   "source": [
    "function thermal_explosion!(du, u, p, t)\n",
    "  nx, dx, lambda, eps, beta = p   \n",
    "            \n",
    "  theta = view(u,1:nx)\n",
    "  Y     = view(u,nx+1:2*nx+2)\n",
    "    \n",
    "  dtheta = view(du,1:nx)\n",
    "  dY     = view(du,nx+1:2*nx+2)\n",
    "    \n",
    "  cst = 1.0/(lambda*dx*dx)\n",
    "        \n",
    "  dtheta[1]      = exp(theta[1]/(1 + theta[1]/beta))*Y[2] + cst * (-2*theta[1] + theta[2])\n",
    "  dtheta[2:nx-1] = exp.(theta[2:nx-1]./(1 .+ theta[2:nx-1]./beta)).*Y[3:nx] + cst * (theta[1:nx-2] - 2*theta[2:nx-1] + theta[3:nx])\n",
    "  dtheta[nx]     = exp(theta[nx]/(1 + theta[nx]/beta))*Y[nx+1] + cst * (theta[nx-1] - 2*theta[nx])\n",
    "\n",
    "  dY[1]      = -eps*exp(0/(1 + 0/beta))*Y[1] + cst * (-2*Y[1] + 2*Y[2])\n",
    "  dY[2:nx+1] = -eps*exp.(theta[1:nx]./(1 .+ theta[1:nx]./beta)).*Y[2:nx+1] + cst * (Y[1:nx] - 2*Y[2:nx+1] + Y[3:nx+2])\n",
    "  dY[nx+2]   = -eps*exp(0/(1 + 0/beta))*Y[nx+2] + cst * (2*Y[nx+1] - 2*Y[nx+2])\n",
    "    \n",
    "end;"
   ]
  },
  {
   "cell_type": "code",
   "execution_count": null,
   "id": "9985b369",
   "metadata": {
    "scrolled": false
   },
   "outputs": [],
   "source": [
    "xmin = 0.\n",
    "xmax = 2.0\n",
    "eps = 0.002\n",
    "lambda = 0.95\n",
    "beta = 30\n",
    "\n",
    "nx = 99\n",
    "dx = (xmax-xmin) / (nx+1)\n",
    "\n",
    "tini = 0.\n",
    "tend = 10.7928\n",
    "\n",
    "tspan = (tini, tend)\n",
    "\n",
    "x = collect(range(xmin, xmax, length=nx+2))\n",
    "\n",
    "uini = zeros(2*nx+2)\n",
    "uini[nx+1:2*nx+2] = ones(nx+2)\n",
    "\n",
    "p = (nx, dx, lambda, eps, beta)\n",
    "\n",
    "tol = 1e-6\n",
    "prob = ODEProblem(thermal_explosion!, uini, tspan, p)\n",
    "sol = solve(prob, RadauIIA5(), abstol=tol, reltol=tol)\n",
    "\n",
    "println(\"Number of function evaluations : \", sol.destats.nf)\n",
    "println(\"Number of linear solves :        \", sol.destats.nsolve)\n",
    "println(\"Number of accepted steps :       \", sol.destats.naccept)\n",
    "println(\"Number of rejected steps :       \", sol.destats.nreject)\n",
    "\n",
    "theta = [0;view(sol[end],1:nx);0]\n",
    "Y     = view(sol[end],nx+1:2*nx+2)\n",
    "\n",
    "dt = sol.t[2:end]-sol.t[1:end-1]\n",
    "\n",
    "ptheta = plot(x, theta, seriestype=:scatter, size=(900,900), leg=false, xaxis = (\"x\"), bottom_margin=10mm, \n",
    "          title=\"Approximate solution theta at time $tend\", titlefontsize=12, markershape=:xcross, markersize=2)\n",
    "pY = plot(x, Y, seriestype=:scatter, size=(900,900), leg=false, xaxis = (\"x\"), bottom_margin=10mm,\n",
    "          title=\"Approximate solution Y at time $tend\", titlefontsize=12, markershape=:xcross, markersize=2)\n",
    "pdt = bar(sol.t[1:end-1]+dt/2, dt, bar_width=dt, size=(900,900), leg=false, yaxis=:log,\n",
    "          title=\"Time steps\")\n",
    "plot(ptheta, pY, pdt, layout=(3,1))"
   ]
  }
 ],
 "metadata": {
  "@webio": {
   "lastCommId": null,
   "lastKernelId": null
  },
  "kernelspec": {
   "display_name": "Julia 1.6.3",
   "language": "julia",
   "name": "julia-1.6"
  },
  "language_info": {
   "file_extension": ".jl",
   "mimetype": "application/julia",
   "name": "julia",
   "version": "1.6.3"
  },
  "latex_envs": {
   "LaTeX_envs_menu_present": true,
   "autoclose": false,
   "autocomplete": false,
   "bibliofile": "biblio.bib",
   "cite_by": "apalike",
   "current_citInitial": 1,
   "eqLabelWithNumbers": true,
   "eqNumInitial": 1,
   "hotkeys": {
    "equation": "Ctrl-E",
    "itemize": "Ctrl-I"
   },
   "labels_anchors": false,
   "latex_user_defs": false,
   "report_style_numbering": false,
   "user_envs_cfg": false
  }
 },
 "nbformat": 4,
 "nbformat_minor": 5
}
