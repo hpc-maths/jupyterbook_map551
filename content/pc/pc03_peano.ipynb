{
 "cells": [
  {
   "cell_type": "code",
   "execution_count": null,
   "id": "00964fac",
   "metadata": {},
   "outputs": [],
   "source": [
    "import numpy as np\n",
    "import plotly.graph_objects as go"
   ]
  },
  {
   "cell_type": "markdown",
   "id": "bcbf3627",
   "metadata": {},
   "source": [
    "# Numerical integration in the framework of application du Peano's theorem\n",
    "\n",
    "We consider the dynamical system on the function $u(t) \\in \\mathbb{R}$ :\n",
    "\n",
    "$$\n",
    "{\\mathrm d}_t u = f(t,u), \\quad u(0)=0.\n",
    "$$\n",
    "\n",
    "with\n",
    "\n",
    "$$\n",
    "\\DeclareMathOperator{\\sign}{sign}\n",
    "f(t,u) = 4 \\bigg( \\sign(u) \\sqrt{|u|} +\\max \\bigg(0, t - \\frac{|u|}{t} \\bigg) \\cos \\bigg( \\frac{\\pi \\log(t)}{\\log 2} \\bigg) \\bigg), \\quad t\\neq 0\n",
    "$$\n",
    "\n",
    "and \n",
    "\n",
    "$$\n",
    "\\DeclareMathOperator{\\sign}{sign}\n",
    "f(t,u) = 4 \\bigg( \\sign(u) \\sqrt{|u|}\\bigg), \\quad t = 0\n",
    "$$\n"
   ]
  },
  {
   "cell_type": "code",
   "execution_count": null,
   "id": "93858282",
   "metadata": {},
   "outputs": [],
   "source": [
    "def peano_fcn(t, u):\n",
    "    if t==0. : \n",
    "        ret = 0.\n",
    "    else :\n",
    "        ret = 4 * ( np.sign(u) * np.sqrt(abs(u)) + max(0, t - abs(u)/t) * np.cos ((np.pi * np.log(t)) / np.log(2)) )\n",
    "    return ret"
   ]
  },
  {
   "cell_type": "code",
   "execution_count": null,
   "id": "953f0a06",
   "metadata": {},
   "outputs": [],
   "source": [
    "class ode_result:\n",
    "    def __init__(self, y, t):\n",
    "        self.y = y\n",
    "        self.t = t\n",
    "\n",
    "def forward_euler(tini, tend, nt, yini, fcn):\n",
    "\n",
    "    dt = (tend-tini) / (nt-1)\n",
    "    t = np.linspace(tini, tend, nt)\n",
    "\n",
    "    yini_array = np.array(yini)\n",
    "    neq = yini_array.size\n",
    "\n",
    "    y = np.zeros((neq, nt), order='F')\n",
    "    y[:,0] = yini_array\n",
    "\n",
    "    for it, tn  in enumerate(t[:-1]):\n",
    "        yn = y[:,it]\n",
    "        y[:,it+1] = yn + dt*np.array(fcn(tn, yn))\n",
    "\n",
    "    return ode_result(y, t)"
   ]
  },
  {
   "cell_type": "code",
   "execution_count": null,
   "id": "842394ec",
   "metadata": {},
   "outputs": [],
   "source": [
    "uini = 0.0\n",
    "tini = 0.0\n",
    "tend = 1.0\n",
    "\n",
    "fcn = peano_fcn\n",
    "\n",
    "nt = 5\n",
    "usol = forward_euler(tini, tend, nt, uini, fcn)\n",
    "\n",
    "fig = go.Figure()\n",
    "fig.add_trace(go.Scatter(x=usol.t, y=usol.y[0], mode='lines+markers', line_dash='dot', name='dt=1/'+str(4)))\n",
    "\n",
    "buttons = []\n",
    "for i in np.arange(2,11):\n",
    "    nt = pow(2,i)+1\n",
    "    usol = forward_euler(tini, tend, nt, uini, fcn)\n",
    "    buttons.append(dict(label=\"dt=1/\"+str(i), method=\"update\", args=[{\"x\": [usol.t], \"y\": [usol.y[0]]}]))\n",
    "\n",
    "fig.update_yaxes(range=[-4, 4])\n",
    "fig.update_layout(updatemenus=[dict(direction=\"down\", buttons=buttons)], title = 'Peano theorem')\n",
    "fig.show()"
   ]
  }
 ],
 "metadata": {
  "@webio": {
   "lastCommId": null,
   "lastKernelId": null
  },
  "kernelspec": {
   "display_name": "Python 3 (ipykernel)",
   "language": "python",
   "name": "python3"
  },
  "language_info": {
   "codemirror_mode": {
    "name": "ipython",
    "version": 3
   },
   "file_extension": ".py",
   "mimetype": "text/x-python",
   "name": "python",
   "nbconvert_exporter": "python",
   "pygments_lexer": "ipython3",
   "version": "3.9.7"
  }
 },
 "nbformat": 4,
 "nbformat_minor": 5
}
