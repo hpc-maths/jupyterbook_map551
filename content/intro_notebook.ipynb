{
 "cells": [
  {
   "cell_type": "markdown",
   "metadata": {
    "slideshow": {
     "slide_type": "slide"
    }
   },
   "source": [
    "# Exemple de notebook"
   ]
  },
  {
   "cell_type": "markdown",
   "metadata": {
    "slideshow": {
     "slide_type": "subslide"
    }
   },
   "source": [
    "**Jupyter Notebook** est une application web permettant de réaliser des documents contenant du texte formaté, des images, des vidéos... mais aussi du code directement exécutable (cf. http://jupyter.org/)."
   ]
  },
  {
   "cell_type": "markdown",
   "metadata": {
    "slideshow": {
     "slide_type": "subslide"
    }
   },
   "source": [
    "**Jupyter Notebook** est une application web client-serveur. Si le notebook est exécuté dans votre environnement personnel, votre machine tient les rôles du client et du serveur. Dans le cas de l'utilisation du **JupyterHub**, un serveur distant exécute le notebook et le résultat s'affiche sur votre machine cliente."
   ]
  },
  {
   "cell_type": "markdown",
   "metadata": {
    "slideshow": {
     "slide_type": "subslide"
    }
   },
   "source": [
    "Un **Jupyter Notebook** est constitué d'une succession de cellules de différents types : \n",
    "* des cellules \"markdown\" pour afficher du texte \n",
    "* des cellules \"code\" contenant du code qui peut être exécuté dans le notebook"
   ]
  },
  {
   "cell_type": "markdown",
   "metadata": {
    "slideshow": {
     "slide_type": "slide"
    }
   },
   "source": [
    "## Lancer le serveur \n",
    "\n",
    "Pour lancer le serveur, il suffit de taper dans un terminal ou de l'anaconda prompt (pour Windows) :\n",
    "```bash\n",
    "> jupyter notebook\n",
    "```\n",
    "\n",
    "ou\n",
    "\n",
    "```bash\n",
    "> jupyter lab\n",
    "```\n",
    "\n",
    "après avoir préalablement activé l'environnement du cours à l'aide de la commande\n",
    "\n",
    "```bash\n",
    "> conda activate map412\n",
    "```"
   ]
  },
  {
   "cell_type": "markdown",
   "metadata": {
    "slideshow": {
     "slide_type": "slide"
    }
   },
   "source": [
    "## Les cellules markdown\n",
    "\n",
    "Pour écrire du texte formaté, il faut utiliser le langage **Markdown**. \n",
    "Ce langage permet notamment  :"
   ]
  },
  {
   "cell_type": "markdown",
   "metadata": {
    "slideshow": {
     "slide_type": "subslide"
    }
   },
   "source": [
    "* d'écrire des titres grâce au caractère # :\n",
    "  ```\n",
    "  # Titre  \n",
    "  ## Sous-titre\n",
    "  ```"
   ]
  },
  {
   "cell_type": "markdown",
   "metadata": {
    "slideshow": {
     "slide_type": "subslide"
    }
   },
   "source": [
    "* d'écrire des listes à puces :\n",
    "  ```markdown\n",
    "  * premier item\n",
    "  * deuxième item    \n",
    "  * troisième item\n",
    "  ```\n",
    "  résultat :\n",
    "  * premier item\n",
    "  * deuxième item    \n",
    "  * troisième item"
   ]
  },
  {
   "cell_type": "markdown",
   "metadata": {},
   "source": [
    "* d'écrire des listes numérotées :\n",
    "  ```markdown\n",
    "  1. premier item\n",
    "  2. deuxième item    \n",
    "  3. troisième item\n",
    "  ```\n",
    "  résultat :\n",
    "  1. premier item\n",
    "  2. deuxième item    \n",
    "  3. troisième item"
   ]
  },
  {
   "cell_type": "markdown",
   "metadata": {
    "slideshow": {
     "slide_type": "subslide"
    }
   },
   "source": [
    "* d'écrire du texte en gras\n",
    "  ```\n",
    "  **du texte en gras**\n",
    "  ```\n",
    "  résultat : \n",
    "  \n",
    "  **du texte en gras**"
   ]
  },
  {
   "cell_type": "markdown",
   "metadata": {},
   "source": [
    "* d'écrire du texte en italique\n",
    "  ```\n",
    "  *du texte en italique*\n",
    "  ```\n",
    "  résultat : \n",
    "  \n",
    "  *du texte en italique* "
   ]
  },
  {
   "cell_type": "markdown",
   "metadata": {
    "slideshow": {
     "slide_type": "subslide"
    }
   },
   "source": [
    "Les cellules markdown permettent également d'écrire du latex en mode mathématique pour insérer des équations :\n",
    "\n",
    "\n",
    "```\n",
    "$$\n",
    "\\begin{cases}\n",
    "\\partial_t u + \\partial_x \\left ( f(u) \\right ) = 0, \\qquad &t \\geq 0, \\quad x \\in \\mathbb{R}, \\qquad \\text{avec} \\quad f(u) = a u, \\\\\n",
    "u(0, x) = u^0(x), \\qquad &x \\in \\mathbb{R},\n",
    "\\end{cases}\n",
    "$$\n",
    "```\n",
    "\n",
    "résultat :\n",
    "\n",
    "$$\n",
    "\\begin{cases}\n",
    "\\partial_t u + \\partial_x \\left ( f(u) \\right ) = 0, \\qquad &t \\geq 0, \\quad x \\in \\mathbb{R}, \\qquad \\text{avec} \\quad f(u) = a u, \\\\\n",
    "u(0, x) = u^0(x), \\qquad &x \\in \\mathbb{R},\n",
    "\\end{cases}\n",
    "$$"
   ]
  },
  {
   "cell_type": "markdown",
   "metadata": {
    "slideshow": {
     "slide_type": "slide"
    }
   },
   "source": [
    "## Les cellules Code"
   ]
  },
  {
   "cell_type": "markdown",
   "metadata": {
    "slideshow": {
     "slide_type": "subslide"
    }
   },
   "source": [
    "### Le *kernel* Python"
   ]
  },
  {
   "cell_type": "markdown",
   "metadata": {
    "slideshow": {
     "slide_type": "fragment"
    }
   },
   "source": [
    "Par défaut, lorsque l'on lance un serveur **Jupyter Notebook**, un interpréteur Python (ou *kernel* Python) a été lancé et attend qu'on lui transmette des instructions."
   ]
  },
  {
   "cell_type": "code",
   "execution_count": null,
   "metadata": {},
   "outputs": [],
   "source": [
    "a = 74\n",
    "b = 10\n",
    "print(a+b)"
   ]
  },
  {
   "cell_type": "markdown",
   "metadata": {
    "slideshow": {
     "slide_type": "fragment"
    }
   },
   "source": [
    "La valeur des variables est conservée d'une cellule à l'autre."
   ]
  },
  {
   "cell_type": "code",
   "execution_count": null,
   "metadata": {},
   "outputs": [],
   "source": [
    "print(a)"
   ]
  },
  {
   "cell_type": "markdown",
   "metadata": {
    "slideshow": {
     "slide_type": "slide"
    }
   },
   "source": [
    "Il est possible d'écrire du code plus complexe utilisant plusieurs modules Python avec sortie graphique :"
   ]
  },
  {
   "cell_type": "code",
   "execution_count": null,
   "metadata": {},
   "outputs": [],
   "source": [
    "import plotly.graph_objects as go\n",
    "import numpy as np\n",
    "\n",
    "x = np.linspace(0, 1, 1000)\n",
    "\n",
    "f = np.linspace(1, 16, 31)\n",
    "\n",
    "fig = go.Figure()\n",
    "\n",
    "# Add invisible traces, one for each slider step\n",
    "for i, fi in enumerate(f):\n",
    "    fig.add_trace(go.Scatter(visible=False, x=x, y=np.sin(2*np.pi*fi*x), name=f\"f={fi}\"))\n",
    "\n",
    "# Make first trace visible\n",
    "fig.data[0].visible = True\n",
    "\n",
    "# Create and add slider\n",
    "steps = []\n",
    "for i, fi in enumerate(f):\n",
    "    step = dict(method=\"update\", label = f\"{fi}\", args=[{\"visible\": [(el==i) for el in range(f.size)]}])\n",
    "    steps.append(step)\n",
    "    \n",
    "sliders = [dict(currentvalue={'prefix': 'Frequency  f = '}, steps=steps)]\n",
    "\n",
    "fig.update_layout(sliders=sliders, title = 'f(x) = sin(2 pi f x)', height=500)\n",
    "fig.show()"
   ]
  },
  {
   "cell_type": "markdown",
   "metadata": {
    "slideshow": {
     "slide_type": "slide"
    }
   },
   "source": [
    "### Les autres *kernels*"
   ]
  },
  {
   "cell_type": "markdown",
   "metadata": {
    "slideshow": {
     "slide_type": "subslide"
    }
   },
   "source": [
    "Il est possible d'installer d'autres \"kernels\" afin d'utiliser d'autres langages de programmation. La liste des *kernels* est disponible [ici](https://github.com/jupyter/jupyter/wiki/Jupyter-kernels). "
   ]
  },
  {
   "cell_type": "markdown",
   "metadata": {
    "slideshow": {
     "slide_type": "slide"
    }
   },
   "source": [
    "## Faire des présentations"
   ]
  },
  {
   "cell_type": "markdown",
   "metadata": {
    "slideshow": {
     "slide_type": "fragment"
    }
   },
   "source": [
    "On peut transformer les cellules en slides pour en faire des transparents avec l'extension [Rise](https://github.com/damianavila/RISE)."
   ]
  }
 ],
 "metadata": {
  "@webio": {
   "lastCommId": null,
   "lastKernelId": null
  },
  "celltoolbar": "Format de la Cellule Texte Brut",
  "kernelspec": {
   "display_name": "Python 3",
   "language": "python",
   "name": "python3"
  },
  "language_info": {
   "codemirror_mode": {
    "name": "ipython",
    "version": 3
   },
   "file_extension": ".py",
   "mimetype": "text/x-python",
   "name": "python",
   "nbconvert_exporter": "python",
   "pygments_lexer": "ipython3",
   "version": "3.6.12"
  },
  "livereveal": {
   "scroll": true
  },
  "widgets": {
   "application/vnd.jupyter.widget-state+json": {
    "state": {},
    "version_major": 2,
    "version_minor": 0
   }
  }
 },
 "nbformat": 4,
 "nbformat_minor": 4
}
